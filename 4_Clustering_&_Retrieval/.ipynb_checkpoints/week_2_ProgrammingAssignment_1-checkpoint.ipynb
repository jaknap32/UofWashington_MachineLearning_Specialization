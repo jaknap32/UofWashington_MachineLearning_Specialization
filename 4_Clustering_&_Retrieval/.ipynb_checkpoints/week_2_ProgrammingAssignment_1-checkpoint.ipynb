{
 "cells": [
  {
   "cell_type": "code",
   "execution_count": 7,
   "metadata": {},
   "outputs": [],
   "source": [
    "import pandas as pd\n",
    "import numpy as np\n",
    "from scipy.sparse import csr_matrix\n",
    "\n",
    "import matplotlib.pyplot as plt\n",
    "import seaborn as sns\n",
    "%matplotlib inline"
   ]
  },
  {
   "cell_type": "code",
   "execution_count": 30,
   "metadata": {},
   "outputs": [],
   "source": [
    "wiki = pd.read_csv(r\"D:\\dasci\\github\\dataSci_datasets\\coursera_ML_UW\\4_Clustering_&_Retrieval\\people_wiki.csv\")"
   ]
  },
  {
   "cell_type": "code",
   "execution_count": 9,
   "metadata": {
    "collapsed": true
   },
   "outputs": [],
   "source": [
    "def load_sparse_csr(filename):\n",
    "    loader = np.load(filename)\n",
    "    data = loader['data']\n",
    "    indices = loader['indices']\n",
    "    indptr = loader['indptr']\n",
    "    shape = loader['shape']\n",
    "    \n",
    "    return csr_matrix( (data, indices, indptr), shape)"
   ]
  },
  {
   "cell_type": "code",
   "execution_count": 12,
   "metadata": {},
   "outputs": [],
   "source": [
    "word_count = load_sparse_csr(r\"D:\\dasci\\github\\dataSci_datasets\\coursera_ML_UW\\4_Clustering_&_Retrieval\\people_wiki_word_count.npz\")"
   ]
  },
  {
   "cell_type": "code",
   "execution_count": 25,
   "metadata": {
    "collapsed": true
   },
   "outputs": [],
   "source": [
    "import json\n",
    "\n",
    "with open(r\"D:\\dasci\\github\\dataSci_datasets\\coursera_ML_UW\\4_Clustering_&_Retrieval\\people_wiki_map_index_to_word.json\") as jsn:\n",
    "    map_index_to_word = json.load(jsn)"
   ]
  },
  {
   "cell_type": "markdown",
   "metadata": {},
   "source": [
    "## Question 1\n",
    "Among the words that appear in both Barack Obama and Francisco Barrio, take the 5 that appear most frequently in Obama. How many of the articles in the Wikipedia dataset contain all of those 5 words?"
   ]
  },
  {
   "cell_type": "code",
   "execution_count": 13,
   "metadata": {
    "collapsed": true
   },
   "outputs": [],
   "source": [
    "from sklearn.neighbors import NearestNeighbors"
   ]
  },
  {
   "cell_type": "code",
   "execution_count": 28,
   "metadata": {},
   "outputs": [
    {
     "data": {
      "text/plain": [
       "NearestNeighbors(algorithm='brute', leaf_size=30, metric='euclidean',\n",
       "         metric_params=None, n_jobs=1, n_neighbors=5, p=2, radius=1.0)"
      ]
     },
     "execution_count": 28,
     "metadata": {},
     "output_type": "execute_result"
    }
   ],
   "source": [
    "model = NearestNeighbors(metric='euclidean', algorithm='brute')\n",
    "model.fit(word_count)"
   ]
  },
  {
   "cell_type": "code",
   "execution_count": 29,
   "metadata": {},
   "outputs": [
    {
     "data": {
      "text/plain": [
       "<59071x547979 sparse matrix of type '<class 'numpy.int64'>'\n",
       "\twith 10379283 stored elements in Compressed Sparse Row format>"
      ]
     },
     "execution_count": 29,
     "metadata": {},
     "output_type": "execute_result"
    }
   ],
   "source": [
    "word_count"
   ]
  },
  {
   "cell_type": "code",
   "execution_count": 32,
   "metadata": {},
   "outputs": [
    {
     "data": {
      "text/html": [
       "<div>\n",
       "<style>\n",
       "    .dataframe thead tr:only-child th {\n",
       "        text-align: right;\n",
       "    }\n",
       "\n",
       "    .dataframe thead th {\n",
       "        text-align: left;\n",
       "    }\n",
       "\n",
       "    .dataframe tbody tr th {\n",
       "        vertical-align: top;\n",
       "    }\n",
       "</style>\n",
       "<table border=\"1\" class=\"dataframe\">\n",
       "  <thead>\n",
       "    <tr style=\"text-align: right;\">\n",
       "      <th></th>\n",
       "      <th>URI</th>\n",
       "      <th>name</th>\n",
       "      <th>text</th>\n",
       "    </tr>\n",
       "  </thead>\n",
       "  <tbody>\n",
       "    <tr>\n",
       "      <th>35817</th>\n",
       "      <td>&lt;http://dbpedia.org/resource/Barack_Obama&gt;</td>\n",
       "      <td>Barack Obama</td>\n",
       "      <td>barack hussein obama ii brk husen bm born augu...</td>\n",
       "    </tr>\n",
       "  </tbody>\n",
       "</table>\n",
       "</div>"
      ],
      "text/plain": [
       "                                              URI          name  \\\n",
       "35817  <http://dbpedia.org/resource/Barack_Obama>  Barack Obama   \n",
       "\n",
       "                                                    text  \n",
       "35817  barack hussein obama ii brk husen bm born augu...  "
      ]
     },
     "execution_count": 32,
     "metadata": {},
     "output_type": "execute_result"
    }
   ],
   "source": [
    "wiki[wiki['name'] == 'Barack Obama']"
   ]
  },
  {
   "cell_type": "code",
   "execution_count": 35,
   "metadata": {
    "collapsed": true
   },
   "outputs": [],
   "source": [
    "obama_index = wiki[wiki['name'] == 'Barack Obama'].index[0]"
   ]
  },
  {
   "cell_type": "code",
   "execution_count": 37,
   "metadata": {},
   "outputs": [],
   "source": [
    "distances, indices = model.kneighbors(word_count[obama_index], n_neighbors=10)"
   ]
  },
  {
   "cell_type": "code",
   "execution_count": 43,
   "metadata": {},
   "outputs": [
    {
     "data": {
      "text/html": [
       "<div>\n",
       "<style>\n",
       "    .dataframe thead tr:only-child th {\n",
       "        text-align: right;\n",
       "    }\n",
       "\n",
       "    .dataframe thead th {\n",
       "        text-align: left;\n",
       "    }\n",
       "\n",
       "    .dataframe tbody tr th {\n",
       "        vertical-align: top;\n",
       "    }\n",
       "</style>\n",
       "<table border=\"1\" class=\"dataframe\">\n",
       "  <thead>\n",
       "    <tr style=\"text-align: right;\">\n",
       "      <th></th>\n",
       "      <th>URI</th>\n",
       "      <th>name</th>\n",
       "      <th>text</th>\n",
       "    </tr>\n",
       "  </thead>\n",
       "  <tbody>\n",
       "    <tr>\n",
       "      <th>9210</th>\n",
       "      <td>&lt;http://dbpedia.org/resource/Andy_Anstett&gt;</td>\n",
       "      <td>Andy Anstett</td>\n",
       "      <td>andrue john andy anstett born june 25 1946 is ...</td>\n",
       "    </tr>\n",
       "    <tr>\n",
       "      <th>13229</th>\n",
       "      <td>&lt;http://dbpedia.org/resource/Francisco_Barrio&gt;</td>\n",
       "      <td>Francisco Barrio</td>\n",
       "      <td>francisco javier barrio terrazas born november...</td>\n",
       "    </tr>\n",
       "    <tr>\n",
       "      <th>14754</th>\n",
       "      <td>&lt;http://dbpedia.org/resource/Mitt_Romney&gt;</td>\n",
       "      <td>Mitt Romney</td>\n",
       "      <td>willard mitt romney born march 12 1947 is an a...</td>\n",
       "    </tr>\n",
       "    <tr>\n",
       "      <th>22745</th>\n",
       "      <td>&lt;http://dbpedia.org/resource/Wynn_Normington_H...</td>\n",
       "      <td>Wynn Normington Hugh-Jones</td>\n",
       "      <td>sir wynn normington hughjones kb sometimes kno...</td>\n",
       "    </tr>\n",
       "    <tr>\n",
       "      <th>24478</th>\n",
       "      <td>&lt;http://dbpedia.org/resource/Joe_Biden&gt;</td>\n",
       "      <td>Joe Biden</td>\n",
       "      <td>joseph robinette joe biden jr dosf rbnt badn b...</td>\n",
       "    </tr>\n",
       "    <tr>\n",
       "      <th>28447</th>\n",
       "      <td>&lt;http://dbpedia.org/resource/George_W._Bush&gt;</td>\n",
       "      <td>George W. Bush</td>\n",
       "      <td>george walker bush born july 6 1946 is an amer...</td>\n",
       "    </tr>\n",
       "    <tr>\n",
       "      <th>31423</th>\n",
       "      <td>&lt;http://dbpedia.org/resource/Walter_Mondale&gt;</td>\n",
       "      <td>Walter Mondale</td>\n",
       "      <td>walter frederick fritz mondale born january 5 ...</td>\n",
       "    </tr>\n",
       "    <tr>\n",
       "      <th>35357</th>\n",
       "      <td>&lt;http://dbpedia.org/resource/Lawrence_Summers&gt;</td>\n",
       "      <td>Lawrence Summers</td>\n",
       "      <td>lawrence henry larry summers born november 30 ...</td>\n",
       "    </tr>\n",
       "    <tr>\n",
       "      <th>35817</th>\n",
       "      <td>&lt;http://dbpedia.org/resource/Barack_Obama&gt;</td>\n",
       "      <td>Barack Obama</td>\n",
       "      <td>barack hussein obama ii brk husen bm born augu...</td>\n",
       "    </tr>\n",
       "    <tr>\n",
       "      <th>36364</th>\n",
       "      <td>&lt;http://dbpedia.org/resource/Don_Bonker&gt;</td>\n",
       "      <td>Don Bonker</td>\n",
       "      <td>don leroy bonker born march 7 1937 in denver c...</td>\n",
       "    </tr>\n",
       "  </tbody>\n",
       "</table>\n",
       "</div>"
      ],
      "text/plain": [
       "                                                     URI  \\\n",
       "9210          <http://dbpedia.org/resource/Andy_Anstett>   \n",
       "13229     <http://dbpedia.org/resource/Francisco_Barrio>   \n",
       "14754          <http://dbpedia.org/resource/Mitt_Romney>   \n",
       "22745  <http://dbpedia.org/resource/Wynn_Normington_H...   \n",
       "24478            <http://dbpedia.org/resource/Joe_Biden>   \n",
       "28447       <http://dbpedia.org/resource/George_W._Bush>   \n",
       "31423       <http://dbpedia.org/resource/Walter_Mondale>   \n",
       "35357     <http://dbpedia.org/resource/Lawrence_Summers>   \n",
       "35817         <http://dbpedia.org/resource/Barack_Obama>   \n",
       "36364           <http://dbpedia.org/resource/Don_Bonker>   \n",
       "\n",
       "                             name  \\\n",
       "9210                 Andy Anstett   \n",
       "13229            Francisco Barrio   \n",
       "14754                 Mitt Romney   \n",
       "22745  Wynn Normington Hugh-Jones   \n",
       "24478                   Joe Biden   \n",
       "28447              George W. Bush   \n",
       "31423              Walter Mondale   \n",
       "35357            Lawrence Summers   \n",
       "35817                Barack Obama   \n",
       "36364                  Don Bonker   \n",
       "\n",
       "                                                    text  \n",
       "9210   andrue john andy anstett born june 25 1946 is ...  \n",
       "13229  francisco javier barrio terrazas born november...  \n",
       "14754  willard mitt romney born march 12 1947 is an a...  \n",
       "22745  sir wynn normington hughjones kb sometimes kno...  \n",
       "24478  joseph robinette joe biden jr dosf rbnt badn b...  \n",
       "28447  george walker bush born july 6 1946 is an amer...  \n",
       "31423  walter frederick fritz mondale born january 5 ...  \n",
       "35357  lawrence henry larry summers born november 30 ...  \n",
       "35817  barack hussein obama ii brk husen bm born augu...  \n",
       "36364  don leroy bonker born march 7 1937 in denver c...  "
      ]
     },
     "execution_count": 43,
     "metadata": {},
     "output_type": "execute_result"
    }
   ],
   "source": [
    "# displaying the nearest neighbours, whose indices we have in indices[0]\n",
    "wiki[wiki.index.isin(indices[0])]"
   ]
  },
  {
   "cell_type": "markdown",
   "metadata": {},
   "source": [
    "## Beauty!, we get mostly political people as the nearest neighbours!"
   ]
  },
  {
   "cell_type": "code",
   "execution_count": 46,
   "metadata": {},
   "outputs": [],
   "source": [
    "def unpack_dict(matrix, map_index_to_word):\n",
    "    table = sorted(map_index_to_word, key=map_index_to_word.get)\n",
    "    \n",
    "    data = matrix.data\n",
    "    indices = matrix.indices\n",
    "    indptr = matrix.indptr\n",
    "    \n",
    "    num_doc = matrix.shape[0]\n",
    "\n",
    "    return [{k:v for k,v in zip([table[word_id] for word_id in indices[indptr[i]:indptr[i+1]] ],\n",
    "                                 data[indptr[i]:indptr[i+1]].tolist())} \\\n",
    "               for i in range(num_doc) ]\n",
    "\n",
    "wiki['word_count'] = unpack_dict(word_count, map_index_to_word)"
   ]
  },
  {
   "cell_type": "code",
   "execution_count": 97,
   "metadata": {
    "collapsed": true
   },
   "outputs": [
    {
     "name": "stdout",
     "output_type": "stream",
     "text": [
      "               word  count\n",
      "272             the     40\n",
      "270              in     30\n",
      "271             and     21\n",
      "269              of     18\n",
      "266              to     14\n",
      "258             his     11\n",
      "71            obama      9\n",
      "138             act      8\n",
      "260              he      7\n",
      "268               a      7\n",
      "191             law      6\n",
      "263              as      6\n",
      "212              us      6\n",
      "264             was      5\n",
      "265             for      4\n",
      "97             iraq      4\n",
      "166      democratic      4\n",
      "129         control      4\n",
      "155        military      4\n",
      "248           after      4\n",
      "217       president      4\n",
      "254             has      4\n",
      "252           first      3\n",
      "256            from      3\n",
      "216          states      3\n",
      "221            2011      3\n",
      "222            2004      3\n",
      "214         january      3\n",
      "165            term      3\n",
      "261            with      3\n",
      "..              ...    ...\n",
      "83            filed      1\n",
      "66             13th      1\n",
      "67           combat      1\n",
      "68      initiatives      1\n",
      "70   unsuccessfully      1\n",
      "72           hawaii      1\n",
      "73             tell      1\n",
      "74          address      1\n",
      "75          islamic      1\n",
      "76           debate      1\n",
      "77        americans      1\n",
      "78         consumer      1\n",
      "79        increased      1\n",
      "80          whether      1\n",
      "84      legislation      1\n",
      "102          sought      1\n",
      "85         shooting      1\n",
      "86            raise      1\n",
      "87         policies      1\n",
      "88           levels      1\n",
      "89        insurance      1\n",
      "90           ending      1\n",
      "91              tax      1\n",
      "92          clinton      1\n",
      "93   constitutional      1\n",
      "94           budget      1\n",
      "96          receive      1\n",
      "99       convention      1\n",
      "100       operation      1\n",
      "136    representing      1\n",
      "\n",
      "[273 rows x 2 columns]\n",
      "              word  count\n",
      "224            the     36\n",
      "221             of     24\n",
      "223            and     18\n",
      "222             in     17\n",
      "212             he     10\n",
      "218             to      9\n",
      "19       chihuahua      7\n",
      "220              a      6\n",
      "111       governor      6\n",
      "210            his      5\n",
      "215             as      5\n",
      "216            was      4\n",
      "178          state      4\n",
      "208           from      4\n",
      "199       national      3\n",
      "107         action      3\n",
      "193         former      3\n",
      "201          years      3\n",
      "204          first      3\n",
      "155          party      3\n",
      "217            for      3\n",
      "20          barrio      2\n",
      "195         during      2\n",
      "96         control      2\n",
      "219             is      2\n",
      "135       becoming      2\n",
      "21             pri      2\n",
      "145         canada      2\n",
      "186         served      2\n",
      "187           were      2\n",
      "..             ...    ...\n",
      "114      francisco      1\n",
      "115         native      1\n",
      "89   controversial      1\n",
      "87          higher      1\n",
      "61         actions      1\n",
      "86         towards      1\n",
      "62         victims      1\n",
      "63         attacks      1\n",
      "64           mount      1\n",
      "65      transition      1\n",
      "66       governors      1\n",
      "67             mba      1\n",
      "68          ending      1\n",
      "69         refused      1\n",
      "70           ranks      1\n",
      "71          places      1\n",
      "72            rise      1\n",
      "73        hundreds      1\n",
      "75           mixed      1\n",
      "76          headed      1\n",
      "77          sector      1\n",
      "78          partys      1\n",
      "79      consulting      1\n",
      "80         chapter      1\n",
      "81     controversy      1\n",
      "82            dark      1\n",
      "83         results      1\n",
      "84              60      1\n",
      "85         attempt      1\n",
      "112            met      1\n",
      "\n",
      "[225 rows x 2 columns]\n"
     ]
    }
   ],
   "source": [
    "def top_words(name):\n",
    "    \"\"\"\n",
    "    Get a table of the most frequent words in the given person's wikipedia page.\n",
    "    \"\"\"\n",
    "    row = wiki[wiki['name'] == name]\n",
    "    word_count_table = pd.DataFrame(list(row.word_count.values[0].items()), columns=['word','count'])\n",
    "    return word_count_table.sort_values('count', ascending=False)\n",
    "\n",
    "obama_words = top_words('Barack Obama')\n",
    "print (obama_words)\n",
    "\n",
    "barrio_words = top_words('Francisco Barrio')\n",
    "print (barrio_words)"
   ]
  },
  {
   "cell_type": "code",
   "execution_count": 79,
   "metadata": {},
   "outputs": [],
   "source": [
    "row = wiki[wiki['name'] == 'Barack Obama']"
   ]
  },
  {
   "cell_type": "code",
   "execution_count": 102,
   "metadata": {},
   "outputs": [],
   "source": [
    "combined_words = obama_words.merge(barrio_words, on='word', suffixes=('_obama','_barrio'))"
   ]
  },
  {
   "cell_type": "markdown",
   "metadata": {},
   "source": [
    "## IMP - the merge operation doesnot enforce any particular ordering as such"
   ]
  },
  {
   "cell_type": "code",
   "execution_count": 106,
   "metadata": {},
   "outputs": [],
   "source": [
    "top_5 = combined_words.sort_values('count_obama', ascending=False).word.values[:5]"
   ]
  },
  {
   "cell_type": "code",
   "execution_count": 114,
   "metadata": {},
   "outputs": [],
   "source": [
    "top_5_set = set(top_5)"
   ]
  },
  {
   "cell_type": "code",
   "execution_count": 118,
   "metadata": {},
   "outputs": [
    {
     "data": {
      "text/plain": [
       "56066"
      ]
     },
     "execution_count": 118,
     "metadata": {},
     "output_type": "execute_result"
    }
   ],
   "source": [
    "wiki.text.str.split().apply(lambda x: len(set(x).intersection(top_5_set))==5).sum()"
   ]
  },
  {
   "cell_type": "markdown",
   "metadata": {},
   "source": [
    "## Answer 1\n",
    "56066"
   ]
  },
  {
   "cell_type": "markdown",
   "metadata": {},
   "source": [
    "## Question 2\n",
    "Measure the pairwise distance between the Wikipedia pages of Barack Obama, George W. Bush, and Joe Biden. Which of the three pairs has the smallest distance?"
   ]
  },
  {
   "cell_type": "code",
   "execution_count": 120,
   "metadata": {
    "collapsed": true
   },
   "outputs": [],
   "source": [
    "from sklearn.metrics.pairwise import euclidean_distances"
   ]
  },
  {
   "cell_type": "code",
   "execution_count": 137,
   "metadata": {},
   "outputs": [],
   "source": [
    "obama_index = wiki[wiki.name=='Barack Obama'].index[0]\n",
    "biden_index = wiki[wiki.name=='Joe Biden'].index[0]\n",
    "bush_index = wiki[wiki.name=='George W. Bush'].index[0]"
   ]
  },
  {
   "cell_type": "code",
   "execution_count": 139,
   "metadata": {},
   "outputs": [
    {
     "name": "stdout",
     "output_type": "stream",
     "text": [
      "[[ 33.07567082]]\n",
      "[[ 34.39476704]]\n",
      "[[ 32.75667871]]\n"
     ]
    }
   ],
   "source": [
    "print (euclidean_distances(word_count[obama_index],word_count[biden_index]))\n",
    "print (euclidean_distances(word_count[obama_index],word_count[bush_index]))\n",
    "print (euclidean_distances(word_count[biden_index],word_count[bush_index]))"
   ]
  },
  {
   "cell_type": "markdown",
   "metadata": {},
   "source": [
    "## Answer 2\n",
    "\n",
    "Biden and bush seem to have the loswest distance!, seems counter intutive given that obama and biden we President and Vice president"
   ]
  },
  {
   "cell_type": "markdown",
   "metadata": {},
   "source": [
    "## Question 3\n",
    "Collect all words that appear both in Barack Obama and George W. Bush pages. Out of those words, find the 10 words that show up most often in Obama's page. Which of the following is NOT one of the 10 words?"
   ]
  },
  {
   "cell_type": "code",
   "execution_count": 147,
   "metadata": {},
   "outputs": [],
   "source": [
    "obama_words = list(wiki[wiki.name=='Barack Obama'].word_count.values[0].keys())\n",
    "bush_words = list(wiki[wiki.name=='Barack Obama'].word_count.values[0].keys())"
   ]
  },
  {
   "cell_type": "code",
   "execution_count": null,
   "metadata": {
    "collapsed": true
   },
   "outputs": [],
   "source": [
    "obama_top10 = sorted(wiki[wiki.name=='Barack Obama'].word_count.values[0].items(), key=lambda x:x[1],reverse=True)[:10]\n",
    "\n",
    "obama_top10 = [i[0] for i in obama_top10]"
   ]
  },
  {
   "cell_type": "code",
   "execution_count": 159,
   "metadata": {},
   "outputs": [
    {
     "data": {
      "text/plain": [
       "['he', 'the', 'to', 'of', 'act', 'his', 'and', 'obama', 'a', 'in']"
      ]
     },
     "execution_count": 159,
     "metadata": {},
     "output_type": "execute_result"
    }
   ],
   "source": [
    "list(set(bush_words).intersection(set(obama_top10)))"
   ]
  },
  {
   "cell_type": "markdown",
   "metadata": {},
   "source": [
    "## Answer 3\n",
    "As we can see above, 'presedential is not in the above list!'"
   ]
  },
  {
   "cell_type": "markdown",
   "metadata": {},
   "source": [
    "## Question 4\n",
    "Among the words that appear in both Barack Obama and Phil Schiliro, take the 5 that have largest weights in Obama. How many of the articles in the Wikipedia dataset contain all of those 5 words?"
   ]
  },
  {
   "cell_type": "code",
   "execution_count": 165,
   "metadata": {},
   "outputs": [],
   "source": [
    "tf_idf = load_sparse_csr(r\"D:\\dasci\\github\\dataSci_datasets\\coursera_ML_UW\\4_Clustering_&_Retrieval\\people_wiki_tf_idf.npz\")"
   ]
  },
  {
   "cell_type": "code",
   "execution_count": 166,
   "metadata": {
    "collapsed": true
   },
   "outputs": [],
   "source": [
    "wiki['tf_idf'] = unpack_dict(tf_idf, map_index_to_word)"
   ]
  },
  {
   "cell_type": "code",
   "execution_count": 168,
   "metadata": {
    "collapsed": true
   },
   "outputs": [],
   "source": [
    "obama_words = list(wiki[wiki.name=='Barack Obama'].word_count.values[0].keys())\n",
    "schiliro_words = list(wiki[wiki.name=='Phil Schiliro'].word_count.values[0].keys())\n",
    "common_os = list(set(schiliro_words).intersection(set(obama_words)))"
   ]
  },
  {
   "cell_type": "code",
   "execution_count": 182,
   "metadata": {
    "collapsed": true
   },
   "outputs": [],
   "source": [
    "obama_top = sorted(wiki[wiki.name=='Barack Obama'].tf_idf.values[0].items(), key=lambda x:x[1],reverse=True)\n",
    "os_top5 = set([i[0] for i in obama_top if i[0] in common_os][:5])"
   ]
  },
  {
   "cell_type": "code",
   "execution_count": 183,
   "metadata": {},
   "outputs": [
    {
     "data": {
      "text/plain": [
       "14"
      ]
     },
     "execution_count": 183,
     "metadata": {},
     "output_type": "execute_result"
    }
   ],
   "source": [
    "wiki.text.str.split().apply(lambda x: len(set(x).intersection(os_top5))==5).sum()"
   ]
  },
  {
   "cell_type": "markdown",
   "metadata": {},
   "source": [
    "## Answer 4\n",
    "14"
   ]
  },
  {
   "cell_type": "markdown",
   "metadata": {},
   "source": [
    "## Question 5\n",
    "Compute the Euclidean distance between TF-IDF features of Obama and Biden. Round your answer to 3 decimal places. Use American-style decimals (e.g. 110.921)."
   ]
  },
  {
   "cell_type": "code",
   "execution_count": 188,
   "metadata": {},
   "outputs": [
    {
     "data": {
      "text/plain": [
       "123.297"
      ]
     },
     "execution_count": 188,
     "metadata": {},
     "output_type": "execute_result"
    }
   ],
   "source": [
    "round(euclidean_distances(tf_idf[obama_index], tf_idf[biden_index])[0][0],3)"
   ]
  },
  {
   "cell_type": "markdown",
   "metadata": {},
   "source": [
    "## Answer 5 \n",
    "123.297"
   ]
  },
  {
   "cell_type": "code",
   "execution_count": null,
   "metadata": {
    "collapsed": true
   },
   "outputs": [],
   "source": []
  }
 ],
 "metadata": {
  "kernelspec": {
   "display_name": "Python [conda root]",
   "language": "python",
   "name": "conda-root-py"
  },
  "language_info": {
   "codemirror_mode": {
    "name": "ipython",
    "version": 3
   },
   "file_extension": ".py",
   "mimetype": "text/x-python",
   "name": "python",
   "nbconvert_exporter": "python",
   "pygments_lexer": "ipython3",
   "version": "3.6.2"
  }
 },
 "nbformat": 4,
 "nbformat_minor": 2
}
