{
 "cells": [
  {
   "cell_type": "code",
   "execution_count": 1,
   "metadata": {
    "collapsed": true
   },
   "outputs": [],
   "source": [
    "import pandas as pd\n",
    "import numpy as np\n",
    "from scipy.sparse import csr_matrix\n",
    "\n",
    "import matplotlib.pyplot as plt\n",
    "import seaborn as sns\n",
    "%matplotlib inline"
   ]
  },
  {
   "cell_type": "code",
   "execution_count": 2,
   "metadata": {
    "collapsed": true
   },
   "outputs": [],
   "source": [
    "wiki = pd.read_csv(r\"D:\\dasci\\github\\dataSci_datasets\\coursera_ML_UW\\4_Clustering_&_Retrieval\\people_wiki.csv\")"
   ]
  },
  {
   "cell_type": "code",
   "execution_count": 3,
   "metadata": {
    "collapsed": true
   },
   "outputs": [],
   "source": [
    "def load_sparse_csr(filename):\n",
    "    loader = np.load(filename)\n",
    "    data = loader['data']\n",
    "    indices = loader['indices']\n",
    "    indptr = loader['indptr']\n",
    "    shape = loader['shape']\n",
    "    \n",
    "    return csr_matrix( (data, indices, indptr), shape)"
   ]
  },
  {
   "cell_type": "code",
   "execution_count": 4,
   "metadata": {
    "collapsed": true
   },
   "outputs": [],
   "source": [
    "word_count = load_sparse_csr(r\"D:\\dasci\\github\\dataSci_datasets\\coursera_ML_UW\\4_Clustering_&_Retrieval\\people_wiki_word_count.npz\")"
   ]
  },
  {
   "cell_type": "code",
   "execution_count": 5,
   "metadata": {
    "collapsed": true
   },
   "outputs": [],
   "source": [
    "import json\n",
    "\n",
    "with open(r\"D:\\dasci\\github\\dataSci_datasets\\coursera_ML_UW\\4_Clustering_&_Retrieval\\people_wiki_map_index_to_word.json\") as jsn:\n",
    "    map_index_to_word = json.load(jsn)"
   ]
  },
  {
   "cell_type": "code",
   "execution_count": 6,
   "metadata": {
    "collapsed": true
   },
   "outputs": [],
   "source": [
    "def unpack_dict(matrix, map_index_to_word):\n",
    "    table = sorted(map_index_to_word, key=map_index_to_word.get)\n",
    "    \n",
    "    data = matrix.data\n",
    "    indices = matrix.indices\n",
    "    indptr = matrix.indptr\n",
    "    \n",
    "    num_doc = matrix.shape[0]\n",
    "\n",
    "    return [{k:v for k,v in zip([table[word_id] for word_id in indices[indptr[i]:indptr[i+1]] ],\n",
    "                                 data[indptr[i]:indptr[i+1]].tolist())} \\\n",
    "               for i in range(num_doc) ]\n",
    "\n",
    "wiki['word_count'] = unpack_dict(word_count, map_index_to_word)"
   ]
  },
  {
   "cell_type": "code",
   "execution_count": 7,
   "metadata": {
    "collapsed": true
   },
   "outputs": [],
   "source": [
    "corpus = load_sparse_csr(r\"D:\\dasci\\github\\dataSci_datasets\\coursera_ML_UW\\4_Clustering_&_Retrieval\\people_wiki_tf_idf.npz\")"
   ]
  },
  {
   "cell_type": "markdown",
   "metadata": {},
   "source": [
    "## LSH Variant - random binary projection, approximating cosine distance"
   ]
  },
  {
   "cell_type": "code",
   "execution_count": 8,
   "metadata": {
    "collapsed": true
   },
   "outputs": [],
   "source": [
    "def generate_random_vectors(num_vector, dim):\n",
    "    return np.random.randn(dim, num_vector)"
   ]
  },
  {
   "cell_type": "code",
   "execution_count": 9,
   "metadata": {},
   "outputs": [
    {
     "name": "stdout",
     "output_type": "stream",
     "text": [
      "[[ 1.76405235  0.40015721  0.97873798]\n",
      " [ 2.2408932   1.86755799 -0.97727788]\n",
      " [ 0.95008842 -0.15135721 -0.10321885]\n",
      " [ 0.4105985   0.14404357  1.45427351]\n",
      " [ 0.76103773  0.12167502  0.44386323]]\n"
     ]
    }
   ],
   "source": [
    "# Generate 3 random vectors of dimension 5, arranged into a single 5 x 3 matrix.\n",
    "np.random.seed(0) # set seed=0 for consistent results\n",
    "print (generate_random_vectors(num_vector=3, dim=5))"
   ]
  },
  {
   "cell_type": "markdown",
   "metadata": {},
   "source": [
    "## The above random vectors are the the coefficients of the line we will use to seperate! :)"
   ]
  },
  {
   "cell_type": "code",
   "execution_count": 10,
   "metadata": {},
   "outputs": [
    {
     "name": "stdout",
     "output_type": "stream",
     "text": [
      "(547979, 16)\n"
     ]
    }
   ],
   "source": [
    "# Generate 16 random vectors of dimension 547979\n",
    "np.random.seed(0)\n",
    "random_vectors = generate_random_vectors(num_vector=16, dim=547979)\n",
    "print (random_vectors.shape)"
   ]
  },
  {
   "cell_type": "markdown",
   "metadata": {},
   "source": [
    "### Above basically, we are generating, 16 different coeffiicients, hence 16 different lines!. For each line, if the point is greater or smaller we get a 1/0 to in the bin encoding"
   ]
  },
  {
   "cell_type": "code",
   "execution_count": 11,
   "metadata": {},
   "outputs": [
    {
     "name": "stdout",
     "output_type": "stream",
     "text": [
      "[ True]\n"
     ]
    }
   ],
   "source": [
    "doc = corpus[0, :] # vector of tf-idf values for document 0\n",
    "print (doc.dot(random_vectors[:, 0]) >= 0) # True if positive sign; False if negative sign"
   ]
  },
  {
   "cell_type": "code",
   "execution_count": 12,
   "metadata": {},
   "outputs": [
    {
     "data": {
      "text/plain": [
       "<1x547979 sparse matrix of type '<class 'numpy.float64'>'\n",
       "\twith 139 stored elements in Compressed Sparse Row format>"
      ]
     },
     "execution_count": 12,
     "metadata": {},
     "output_type": "execute_result"
    }
   ],
   "source": [
    "corpus[0, :]"
   ]
  },
  {
   "cell_type": "markdown",
   "metadata": {},
   "source": [
    "Now we obtain the bits for each datapoint!, using matrix operations rather than tedious and long for loops!"
   ]
  },
  {
   "cell_type": "code",
   "execution_count": 13,
   "metadata": {},
   "outputs": [
    {
     "name": "stdout",
     "output_type": "stream",
     "text": [
      "[[ True  True False False False  True  True False  True  True  True False\n",
      "  False  True False  True]]\n",
      "[[1 1 0 0 0 1 1 0 1 1 1 0 0 1 0 1]]\n"
     ]
    }
   ],
   "source": [
    "print (doc.dot(random_vectors) >= 0) # should return an array of 16 True/False bits\n",
    "print (np.array(doc.dot(random_vectors) >= 0, dtype=int)) # display index bits in 0/1's"
   ]
  },
  {
   "cell_type": "code",
   "execution_count": 15,
   "metadata": {},
   "outputs": [
    {
     "name": "stdout",
     "output_type": "stream",
     "text": [
      "[[ True  True False False False  True  True False  True  True  True False\n",
      "  False  True False  True]\n",
      " [ True False False False  True  True False  True  True False  True False\n",
      "   True False False  True]]\n",
      "[[ True  True False ...,  True False  True]\n",
      " [ True False False ..., False False  True]\n",
      " [False  True False ...,  True False  True]\n",
      " ..., \n",
      " [ True  True False ...,  True  True  True]\n",
      " [False  True  True ...,  True False  True]\n",
      " [ True False  True ..., False False  True]]\n"
     ]
    }
   ],
   "source": [
    "print (corpus[0:2].dot(random_vectors) >= 0) # compute bit indices of first two documents\n",
    "print (corpus.dot(random_vectors) >= 0) # compute bit indices of ALL documents"
   ]
  },
  {
   "cell_type": "markdown",
   "metadata": {},
   "source": [
    "Next we give the bin indices a number, as its easier to deal with them rather than 16 bits!"
   ]
  },
  {
   "cell_type": "code",
   "execution_count": 17,
   "metadata": {},
   "outputs": [
    {
     "name": "stdout",
     "output_type": "stream",
     "text": [
      "[[ True  True False False False  True  True False  True  True  True False\n",
      "  False  True False  True]]\n",
      "[32768 16384  8192  4096  2048  1024   512   256   128    64    32    16\n",
      "     8     4     2     1]\n",
      "[50917]\n"
     ]
    }
   ],
   "source": [
    "doc = corpus[0, :]  # first document\n",
    "index_bits = (doc.dot(random_vectors) >= 0)\n",
    "powers_of_two = (1 << np.arange(15, -1, -1))\n",
    "print (index_bits)\n",
    "print (powers_of_two)          # [32768, 16384, 8192, 4096, 2048, 1024, 512, 256, 128, 64, 32, 16, 8, 4, 2, 1]\n",
    "print (index_bits.dot(powers_of_two))"
   ]
  },
  {
   "cell_type": "code",
   "execution_count": 20,
   "metadata": {},
   "outputs": [
    {
     "name": "stdout",
     "output_type": "stream",
     "text": [
      "[50917 36265 19365 ..., 52983 27589 41449]\n"
     ]
    }
   ],
   "source": [
    "index_bits = corpus.dot(random_vectors) >= 0 # for all documents\n",
    "print (index_bits.dot(powers_of_two))"
   ]
  },
  {
   "cell_type": "code",
   "execution_count": 51,
   "metadata": {},
   "outputs": [],
   "source": [
    "def train_lsh(data, num_vector=16, seed=None):\n",
    "    \n",
    "    dim = data.shape[1]\n",
    "    if seed is not None:\n",
    "        np.random.seed(seed)\n",
    "    random_vectors = generate_random_vectors(num_vector, dim)\n",
    "  \n",
    "    powers_of_two = 1 << np.arange(num_vector-1, -1, -1)\n",
    "  \n",
    "    table = {}\n",
    "    \n",
    "    # Partition data points into bins\n",
    "    bin_index_bits = (data.dot(random_vectors) >= 0)\n",
    "  \n",
    "    # Encode bin index bits into integers\n",
    "    bin_indices = bin_index_bits.dot(powers_of_two)\n",
    "    \n",
    "    # Update `table` so that `table[i]` is the list of document ids with bin index equal to i.\n",
    "    for data_index, bin_index in enumerate(bin_indices):\n",
    "        if bin_index not in table:\n",
    "            # If no list yet exists for this bin, assign the bin an empty list.\n",
    "            table[bin_index] = [] # YOUR CODE HERE\n",
    "        # Fetch the list of document ids associated with the bin and add the document id to the end.\n",
    "        table[bin_index].append(data_index) # YOUR CODE HERE\n",
    "\n",
    "    model = {'data': data,\n",
    "             'bin_index_bits': bin_index_bits,\n",
    "             'bin_indices': bin_indices,\n",
    "             'table': table,\n",
    "             'random_vectors': random_vectors,\n",
    "             'num_vector': num_vector}\n",
    "    \n",
    "    return model"
   ]
  },
  {
   "cell_type": "code",
   "execution_count": 52,
   "metadata": {},
   "outputs": [
    {
     "name": "stdout",
     "output_type": "stream",
     "text": [
      "Passed!\n"
     ]
    }
   ],
   "source": [
    "model = train_lsh(corpus, num_vector=16, seed=143)\n",
    "table = model['table']\n",
    "if   0 in table and table[0]   == [39583] and \\\n",
    "   143 in table and table[143] == [19693, 28277, 29776, 30399]:\n",
    "    print ('Passed!')\n",
    "else:\n",
    "    print ('Check your code.')"
   ]
  },
  {
   "cell_type": "markdown",
   "metadata": {},
   "source": [
    "## Question 1\n",
    "What is the document ID of Barack Obama's article?"
   ]
  },
  {
   "cell_type": "code",
   "execution_count": 30,
   "metadata": {},
   "outputs": [
    {
     "name": "stdout",
     "output_type": "stream",
     "text": [
      "35817\n"
     ]
    }
   ],
   "source": [
    "obama_id = wiki[wiki['name'] == 'Barack Obama'].index.values[0]\n",
    "print(obama_id)"
   ]
  },
  {
   "cell_type": "markdown",
   "metadata": {},
   "source": [
    "## Answer 1\n",
    "35817"
   ]
  },
  {
   "cell_type": "markdown",
   "metadata": {},
   "source": [
    "## Question 2\n",
    "Which bin contains Barack Obama's article? Enter its integer index."
   ]
  },
  {
   "cell_type": "code",
   "execution_count": 74,
   "metadata": {},
   "outputs": [
    {
     "name": "stdout",
     "output_type": "stream",
     "text": [
      "50194\n"
     ]
    }
   ],
   "source": [
    "obama_bin = [key for key, value in model['table'].items() if obama_id in value][0]\n",
    "print(obama_bin)"
   ]
  },
  {
   "cell_type": "markdown",
   "metadata": {},
   "source": [
    "## Answer 2\n",
    "50194"
   ]
  },
  {
   "cell_type": "markdown",
   "metadata": {},
   "source": [
    "## Question 3\n",
    "Examine the bit representations of the bins containing Barack Obama and Joe Biden. In how many places do they agree?"
   ]
  },
  {
   "cell_type": "code",
   "execution_count": 60,
   "metadata": {
    "collapsed": true
   },
   "outputs": [],
   "source": [
    "biden_id = wiki[wiki['name'] == 'Joe Biden'].index.values[0]"
   ]
  },
  {
   "cell_type": "code",
   "execution_count": 66,
   "metadata": {},
   "outputs": [],
   "source": [
    "obama_bits = model['bin_index_bits'][obama_id]\n",
    "biden_bits = model['bin_index_bits'][biden_id]"
   ]
  },
  {
   "cell_type": "code",
   "execution_count": 69,
   "metadata": {},
   "outputs": [
    {
     "data": {
      "text/plain": [
       "14"
      ]
     },
     "execution_count": 69,
     "metadata": {},
     "output_type": "execute_result"
    }
   ],
   "source": [
    "(obama_bits==biden_bits).sum()"
   ]
  },
  {
   "cell_type": "markdown",
   "metadata": {},
   "source": [
    "## Answer 3\n",
    "14"
   ]
  },
  {
   "cell_type": "code",
   "execution_count": 72,
   "metadata": {},
   "outputs": [
    {
     "data": {
      "text/plain": [
       "8"
      ]
     },
     "execution_count": 72,
     "metadata": {},
     "output_type": "execute_result"
    }
   ],
   "source": [
    "wyhg_id = wiki[wiki['name']=='Wynn Normington Hugh-Jones'].index.values[0]\n",
    "\n",
    "(model['bin_index_bits'][obama_id] == model['bin_index_bits'][wyhg_id]).sum()"
   ]
  },
  {
   "cell_type": "code",
   "execution_count": 77,
   "metadata": {},
   "outputs": [],
   "source": [
    "obama_bin_mems = model['table'][obama_bin]"
   ]
  },
  {
   "cell_type": "code",
   "execution_count": 80,
   "metadata": {},
   "outputs": [
    {
     "data": {
      "text/html": [
       "<div>\n",
       "<style>\n",
       "    .dataframe thead tr:only-child th {\n",
       "        text-align: right;\n",
       "    }\n",
       "\n",
       "    .dataframe thead th {\n",
       "        text-align: left;\n",
       "    }\n",
       "\n",
       "    .dataframe tbody tr th {\n",
       "        vertical-align: top;\n",
       "    }\n",
       "</style>\n",
       "<table border=\"1\" class=\"dataframe\">\n",
       "  <thead>\n",
       "    <tr style=\"text-align: right;\">\n",
       "      <th></th>\n",
       "      <th>URI</th>\n",
       "      <th>name</th>\n",
       "      <th>text</th>\n",
       "      <th>word_count</th>\n",
       "    </tr>\n",
       "  </thead>\n",
       "  <tbody>\n",
       "    <tr>\n",
       "      <th>21426</th>\n",
       "      <td>&lt;http://dbpedia.org/resource/Mark_Boulware&gt;</td>\n",
       "      <td>Mark Boulware</td>\n",
       "      <td>mark boulware born 1948 is an american diploma...</td>\n",
       "      <td>{'tamandar': 1, 'navymark': 1, '19801982domest...</td>\n",
       "    </tr>\n",
       "    <tr>\n",
       "      <th>35817</th>\n",
       "      <td>&lt;http://dbpedia.org/resource/Barack_Obama&gt;</td>\n",
       "      <td>Barack Obama</td>\n",
       "      <td>barack hussein obama ii brk husen bm born augu...</td>\n",
       "      <td>{'husen': 1, '2012obama': 1, 'laureateduring':...</td>\n",
       "    </tr>\n",
       "    <tr>\n",
       "      <th>39426</th>\n",
       "      <td>&lt;http://dbpedia.org/resource/John_Wells_(polit...</td>\n",
       "      <td>John Wells (politician)</td>\n",
       "      <td>sir john julius wells born 30 march 1925 is a ...</td>\n",
       "      <td>{'widdecombethroughout': 1, 'meathbaker': 1, '...</td>\n",
       "    </tr>\n",
       "    <tr>\n",
       "      <th>50261</th>\n",
       "      <td>&lt;http://dbpedia.org/resource/Francis_Longstaff&gt;</td>\n",
       "      <td>Francis Longstaff</td>\n",
       "      <td>francis a longstaff born august 3 1956 is an a...</td>\n",
       "      <td>{'programlongstaff': 1, 'awardlongstaff': 1, '...</td>\n",
       "    </tr>\n",
       "    <tr>\n",
       "      <th>53937</th>\n",
       "      <td>&lt;http://dbpedia.org/resource/Madurai_T._Sriniv...</td>\n",
       "      <td>Madurai T. Srinivasan</td>\n",
       "      <td>maduraitsrinivasan is a wellknown figure in th...</td>\n",
       "      <td>{'inusa': 1, 'arasu': 1, 'schoolthus': 1, 'tem...</td>\n",
       "    </tr>\n",
       "  </tbody>\n",
       "</table>\n",
       "</div>"
      ],
      "text/plain": [
       "                                                     URI  \\\n",
       "21426        <http://dbpedia.org/resource/Mark_Boulware>   \n",
       "35817         <http://dbpedia.org/resource/Barack_Obama>   \n",
       "39426  <http://dbpedia.org/resource/John_Wells_(polit...   \n",
       "50261    <http://dbpedia.org/resource/Francis_Longstaff>   \n",
       "53937  <http://dbpedia.org/resource/Madurai_T._Sriniv...   \n",
       "\n",
       "                          name  \\\n",
       "21426            Mark Boulware   \n",
       "35817             Barack Obama   \n",
       "39426  John Wells (politician)   \n",
       "50261        Francis Longstaff   \n",
       "53937    Madurai T. Srinivasan   \n",
       "\n",
       "                                                    text  \\\n",
       "21426  mark boulware born 1948 is an american diploma...   \n",
       "35817  barack hussein obama ii brk husen bm born augu...   \n",
       "39426  sir john julius wells born 30 march 1925 is a ...   \n",
       "50261  francis a longstaff born august 3 1956 is an a...   \n",
       "53937  maduraitsrinivasan is a wellknown figure in th...   \n",
       "\n",
       "                                              word_count  \n",
       "21426  {'tamandar': 1, 'navymark': 1, '19801982domest...  \n",
       "35817  {'husen': 1, '2012obama': 1, 'laureateduring':...  \n",
       "39426  {'widdecombethroughout': 1, 'meathbaker': 1, '...  \n",
       "50261  {'programlongstaff': 1, 'awardlongstaff': 1, '...  \n",
       "53937  {'inusa': 1, 'arasu': 1, 'schoolthus': 1, 'tem...  "
      ]
     },
     "execution_count": 80,
     "metadata": {},
     "output_type": "execute_result"
    }
   ],
   "source": [
    "wiki[wiki.index.isin(obama_bin_mems)]"
   ]
  },
  {
   "cell_type": "code",
   "execution_count": 79,
   "metadata": {},
   "outputs": [
    {
     "data": {
      "text/plain": [
       "[21426, 35817, 39426, 50261, 53937]"
      ]
     },
     "execution_count": 79,
     "metadata": {},
     "output_type": "execute_result"
    }
   ],
   "source": [
    "obama_bin_mems"
   ]
  },
  {
   "cell_type": "code",
   "execution_count": 108,
   "metadata": {},
   "outputs": [
    {
     "name": "stdout",
     "output_type": "stream",
     "text": [
      "================= Cosine distance from Barack Obama\n",
      "Barack Obama - Joe Biden               : 0.999973\n",
      "Barack Obama - Mark Boulware           : 0.999995\n",
      "Barack Obama - Barack Obama            : 0.999907\n",
      "Barack Obama - John Wells (politician) : 0.999997\n",
      "Barack Obama - Francis Longstaff       : 0.999997\n",
      "Barack Obama - Madurai T. Srinivasan   : 1.000000\n"
     ]
    }
   ],
   "source": [
    "def cosine_distance(x, y):\n",
    "    xy = x.dot(y.T)\n",
    "    dist = xy/((x.data**2).sum()*(y.data**2).sum())\n",
    "    return 1-dist[0,0]\n",
    "\n",
    "obama_tf_idf = corpus[35817,:]\n",
    "biden_tf_idf = corpus[24478,:]\n",
    "\n",
    "print ('================= Cosine distance from Barack Obama')\n",
    "print ('Barack Obama - {0:24s}: {1:f}'.format('Joe Biden',\n",
    "                                             cosine_distance(obama_tf_idf, biden_tf_idf)))\n",
    "for doc_id in obama_bin_mems:\n",
    "    doc_tf_idf = corpus[doc_id,:]\n",
    "    print ('Barack Obama - {0:24s}: {1:f}'.format(wiki[wiki.index==doc_id]['name'].values[0],\n",
    "                                                 cosine_distance(obama_tf_idf, doc_tf_idf)))"
   ]
  },
  {
   "cell_type": "markdown",
   "metadata": {},
   "source": [
    "### As we can see above, even though biden is the nearest neighbot to obama, it did not fall in the same bin!!. we need to check the nearby bins too "
   ]
  },
  {
   "cell_type": "code",
   "execution_count": 110,
   "metadata": {},
   "outputs": [
    {
     "name": "stdout",
     "output_type": "stream",
     "text": [
      "(0, 1, 2)\n",
      "(0, 1, 3)\n",
      "(0, 1, 4)\n",
      "(0, 1, 5)\n",
      "(0, 1, 6)\n",
      "(0, 1, 7)\n",
      "(0, 1, 8)\n",
      "(0, 1, 9)\n",
      "(0, 1, 10)\n",
      "(0, 1, 11)\n",
      "(0, 1, 12)\n",
      "(0, 1, 13)\n",
      "(0, 1, 14)\n",
      "(0, 1, 15)\n",
      "(0, 2, 3)\n",
      "(0, 2, 4)\n",
      "(0, 2, 5)\n",
      "(0, 2, 6)\n",
      "(0, 2, 7)\n",
      "(0, 2, 8)\n",
      "(0, 2, 9)\n",
      "(0, 2, 10)\n",
      "(0, 2, 11)\n",
      "(0, 2, 12)\n",
      "(0, 2, 13)\n",
      "(0, 2, 14)\n",
      "(0, 2, 15)\n",
      "(0, 3, 4)\n",
      "(0, 3, 5)\n",
      "(0, 3, 6)\n",
      "(0, 3, 7)\n",
      "(0, 3, 8)\n",
      "(0, 3, 9)\n",
      "(0, 3, 10)\n",
      "(0, 3, 11)\n",
      "(0, 3, 12)\n",
      "(0, 3, 13)\n",
      "(0, 3, 14)\n",
      "(0, 3, 15)\n",
      "(0, 4, 5)\n",
      "(0, 4, 6)\n",
      "(0, 4, 7)\n",
      "(0, 4, 8)\n",
      "(0, 4, 9)\n",
      "(0, 4, 10)\n",
      "(0, 4, 11)\n",
      "(0, 4, 12)\n",
      "(0, 4, 13)\n",
      "(0, 4, 14)\n",
      "(0, 4, 15)\n",
      "(0, 5, 6)\n",
      "(0, 5, 7)\n",
      "(0, 5, 8)\n",
      "(0, 5, 9)\n",
      "(0, 5, 10)\n",
      "(0, 5, 11)\n",
      "(0, 5, 12)\n",
      "(0, 5, 13)\n",
      "(0, 5, 14)\n",
      "(0, 5, 15)\n",
      "(0, 6, 7)\n",
      "(0, 6, 8)\n",
      "(0, 6, 9)\n",
      "(0, 6, 10)\n",
      "(0, 6, 11)\n",
      "(0, 6, 12)\n",
      "(0, 6, 13)\n",
      "(0, 6, 14)\n",
      "(0, 6, 15)\n",
      "(0, 7, 8)\n",
      "(0, 7, 9)\n",
      "(0, 7, 10)\n",
      "(0, 7, 11)\n",
      "(0, 7, 12)\n",
      "(0, 7, 13)\n",
      "(0, 7, 14)\n",
      "(0, 7, 15)\n",
      "(0, 8, 9)\n",
      "(0, 8, 10)\n",
      "(0, 8, 11)\n",
      "(0, 8, 12)\n",
      "(0, 8, 13)\n",
      "(0, 8, 14)\n",
      "(0, 8, 15)\n",
      "(0, 9, 10)\n",
      "(0, 9, 11)\n",
      "(0, 9, 12)\n",
      "(0, 9, 13)\n",
      "(0, 9, 14)\n",
      "(0, 9, 15)\n",
      "(0, 10, 11)\n",
      "(0, 10, 12)\n",
      "(0, 10, 13)\n",
      "(0, 10, 14)\n",
      "(0, 10, 15)\n",
      "(0, 11, 12)\n",
      "(0, 11, 13)\n",
      "(0, 11, 14)\n",
      "(0, 11, 15)\n",
      "(0, 12, 13)\n",
      "(0, 12, 14)\n",
      "(0, 12, 15)\n",
      "(0, 13, 14)\n",
      "(0, 13, 15)\n",
      "(0, 14, 15)\n",
      "(1, 2, 3)\n",
      "(1, 2, 4)\n",
      "(1, 2, 5)\n",
      "(1, 2, 6)\n",
      "(1, 2, 7)\n",
      "(1, 2, 8)\n",
      "(1, 2, 9)\n",
      "(1, 2, 10)\n",
      "(1, 2, 11)\n",
      "(1, 2, 12)\n",
      "(1, 2, 13)\n",
      "(1, 2, 14)\n",
      "(1, 2, 15)\n",
      "(1, 3, 4)\n",
      "(1, 3, 5)\n",
      "(1, 3, 6)\n",
      "(1, 3, 7)\n",
      "(1, 3, 8)\n",
      "(1, 3, 9)\n",
      "(1, 3, 10)\n",
      "(1, 3, 11)\n",
      "(1, 3, 12)\n",
      "(1, 3, 13)\n",
      "(1, 3, 14)\n",
      "(1, 3, 15)\n",
      "(1, 4, 5)\n",
      "(1, 4, 6)\n",
      "(1, 4, 7)\n",
      "(1, 4, 8)\n",
      "(1, 4, 9)\n",
      "(1, 4, 10)\n",
      "(1, 4, 11)\n",
      "(1, 4, 12)\n",
      "(1, 4, 13)\n",
      "(1, 4, 14)\n",
      "(1, 4, 15)\n",
      "(1, 5, 6)\n",
      "(1, 5, 7)\n",
      "(1, 5, 8)\n",
      "(1, 5, 9)\n",
      "(1, 5, 10)\n",
      "(1, 5, 11)\n",
      "(1, 5, 12)\n",
      "(1, 5, 13)\n",
      "(1, 5, 14)\n",
      "(1, 5, 15)\n",
      "(1, 6, 7)\n",
      "(1, 6, 8)\n",
      "(1, 6, 9)\n",
      "(1, 6, 10)\n",
      "(1, 6, 11)\n",
      "(1, 6, 12)\n",
      "(1, 6, 13)\n",
      "(1, 6, 14)\n",
      "(1, 6, 15)\n",
      "(1, 7, 8)\n",
      "(1, 7, 9)\n",
      "(1, 7, 10)\n",
      "(1, 7, 11)\n",
      "(1, 7, 12)\n",
      "(1, 7, 13)\n",
      "(1, 7, 14)\n",
      "(1, 7, 15)\n",
      "(1, 8, 9)\n",
      "(1, 8, 10)\n",
      "(1, 8, 11)\n",
      "(1, 8, 12)\n",
      "(1, 8, 13)\n",
      "(1, 8, 14)\n",
      "(1, 8, 15)\n",
      "(1, 9, 10)\n",
      "(1, 9, 11)\n",
      "(1, 9, 12)\n",
      "(1, 9, 13)\n",
      "(1, 9, 14)\n",
      "(1, 9, 15)\n",
      "(1, 10, 11)\n",
      "(1, 10, 12)\n",
      "(1, 10, 13)\n",
      "(1, 10, 14)\n",
      "(1, 10, 15)\n",
      "(1, 11, 12)\n",
      "(1, 11, 13)\n",
      "(1, 11, 14)\n",
      "(1, 11, 15)\n",
      "(1, 12, 13)\n",
      "(1, 12, 14)\n",
      "(1, 12, 15)\n",
      "(1, 13, 14)\n",
      "(1, 13, 15)\n",
      "(1, 14, 15)\n",
      "(2, 3, 4)\n",
      "(2, 3, 5)\n",
      "(2, 3, 6)\n",
      "(2, 3, 7)\n",
      "(2, 3, 8)\n",
      "(2, 3, 9)\n",
      "(2, 3, 10)\n",
      "(2, 3, 11)\n",
      "(2, 3, 12)\n",
      "(2, 3, 13)\n",
      "(2, 3, 14)\n",
      "(2, 3, 15)\n",
      "(2, 4, 5)\n",
      "(2, 4, 6)\n",
      "(2, 4, 7)\n",
      "(2, 4, 8)\n",
      "(2, 4, 9)\n",
      "(2, 4, 10)\n",
      "(2, 4, 11)\n",
      "(2, 4, 12)\n",
      "(2, 4, 13)\n",
      "(2, 4, 14)\n",
      "(2, 4, 15)\n",
      "(2, 5, 6)\n",
      "(2, 5, 7)\n",
      "(2, 5, 8)\n",
      "(2, 5, 9)\n",
      "(2, 5, 10)\n",
      "(2, 5, 11)\n",
      "(2, 5, 12)\n",
      "(2, 5, 13)\n",
      "(2, 5, 14)\n",
      "(2, 5, 15)\n",
      "(2, 6, 7)\n",
      "(2, 6, 8)\n",
      "(2, 6, 9)\n",
      "(2, 6, 10)\n",
      "(2, 6, 11)\n",
      "(2, 6, 12)\n",
      "(2, 6, 13)\n",
      "(2, 6, 14)\n",
      "(2, 6, 15)\n",
      "(2, 7, 8)\n",
      "(2, 7, 9)\n",
      "(2, 7, 10)\n",
      "(2, 7, 11)\n",
      "(2, 7, 12)\n",
      "(2, 7, 13)\n",
      "(2, 7, 14)\n",
      "(2, 7, 15)\n",
      "(2, 8, 9)\n",
      "(2, 8, 10)\n",
      "(2, 8, 11)\n",
      "(2, 8, 12)\n",
      "(2, 8, 13)\n",
      "(2, 8, 14)\n",
      "(2, 8, 15)\n",
      "(2, 9, 10)\n",
      "(2, 9, 11)\n",
      "(2, 9, 12)\n",
      "(2, 9, 13)\n",
      "(2, 9, 14)\n",
      "(2, 9, 15)\n",
      "(2, 10, 11)\n",
      "(2, 10, 12)\n",
      "(2, 10, 13)\n",
      "(2, 10, 14)\n",
      "(2, 10, 15)\n",
      "(2, 11, 12)\n",
      "(2, 11, 13)\n",
      "(2, 11, 14)\n",
      "(2, 11, 15)\n",
      "(2, 12, 13)\n",
      "(2, 12, 14)\n",
      "(2, 12, 15)\n",
      "(2, 13, 14)\n",
      "(2, 13, 15)\n",
      "(2, 14, 15)\n",
      "(3, 4, 5)\n",
      "(3, 4, 6)\n",
      "(3, 4, 7)\n",
      "(3, 4, 8)\n",
      "(3, 4, 9)\n",
      "(3, 4, 10)\n",
      "(3, 4, 11)\n",
      "(3, 4, 12)\n",
      "(3, 4, 13)\n",
      "(3, 4, 14)\n",
      "(3, 4, 15)\n",
      "(3, 5, 6)\n",
      "(3, 5, 7)\n",
      "(3, 5, 8)\n",
      "(3, 5, 9)\n",
      "(3, 5, 10)\n",
      "(3, 5, 11)\n",
      "(3, 5, 12)\n",
      "(3, 5, 13)\n",
      "(3, 5, 14)\n",
      "(3, 5, 15)\n",
      "(3, 6, 7)\n",
      "(3, 6, 8)\n",
      "(3, 6, 9)\n",
      "(3, 6, 10)\n",
      "(3, 6, 11)\n",
      "(3, 6, 12)\n",
      "(3, 6, 13)\n",
      "(3, 6, 14)\n",
      "(3, 6, 15)\n",
      "(3, 7, 8)\n",
      "(3, 7, 9)\n",
      "(3, 7, 10)\n",
      "(3, 7, 11)\n",
      "(3, 7, 12)\n",
      "(3, 7, 13)\n",
      "(3, 7, 14)\n",
      "(3, 7, 15)\n",
      "(3, 8, 9)\n",
      "(3, 8, 10)\n",
      "(3, 8, 11)\n",
      "(3, 8, 12)\n",
      "(3, 8, 13)\n",
      "(3, 8, 14)\n",
      "(3, 8, 15)\n",
      "(3, 9, 10)\n",
      "(3, 9, 11)\n",
      "(3, 9, 12)\n",
      "(3, 9, 13)\n",
      "(3, 9, 14)\n",
      "(3, 9, 15)\n",
      "(3, 10, 11)\n",
      "(3, 10, 12)\n",
      "(3, 10, 13)\n",
      "(3, 10, 14)\n",
      "(3, 10, 15)\n",
      "(3, 11, 12)\n",
      "(3, 11, 13)\n",
      "(3, 11, 14)\n",
      "(3, 11, 15)\n",
      "(3, 12, 13)\n",
      "(3, 12, 14)\n",
      "(3, 12, 15)\n",
      "(3, 13, 14)\n",
      "(3, 13, 15)\n",
      "(3, 14, 15)\n",
      "(4, 5, 6)\n",
      "(4, 5, 7)\n",
      "(4, 5, 8)\n",
      "(4, 5, 9)\n",
      "(4, 5, 10)\n",
      "(4, 5, 11)\n",
      "(4, 5, 12)\n",
      "(4, 5, 13)\n",
      "(4, 5, 14)\n",
      "(4, 5, 15)\n",
      "(4, 6, 7)\n",
      "(4, 6, 8)\n",
      "(4, 6, 9)\n",
      "(4, 6, 10)\n",
      "(4, 6, 11)\n",
      "(4, 6, 12)\n",
      "(4, 6, 13)\n",
      "(4, 6, 14)\n",
      "(4, 6, 15)\n",
      "(4, 7, 8)\n",
      "(4, 7, 9)\n",
      "(4, 7, 10)\n",
      "(4, 7, 11)\n",
      "(4, 7, 12)\n",
      "(4, 7, 13)\n",
      "(4, 7, 14)\n",
      "(4, 7, 15)\n",
      "(4, 8, 9)\n",
      "(4, 8, 10)\n",
      "(4, 8, 11)\n",
      "(4, 8, 12)\n",
      "(4, 8, 13)\n",
      "(4, 8, 14)\n",
      "(4, 8, 15)\n",
      "(4, 9, 10)\n",
      "(4, 9, 11)\n",
      "(4, 9, 12)\n",
      "(4, 9, 13)\n",
      "(4, 9, 14)\n",
      "(4, 9, 15)\n",
      "(4, 10, 11)\n",
      "(4, 10, 12)\n",
      "(4, 10, 13)\n",
      "(4, 10, 14)\n",
      "(4, 10, 15)\n",
      "(4, 11, 12)\n",
      "(4, 11, 13)\n",
      "(4, 11, 14)\n",
      "(4, 11, 15)\n",
      "(4, 12, 13)\n",
      "(4, 12, 14)\n",
      "(4, 12, 15)\n",
      "(4, 13, 14)\n",
      "(4, 13, 15)\n",
      "(4, 14, 15)\n",
      "(5, 6, 7)\n",
      "(5, 6, 8)\n",
      "(5, 6, 9)\n",
      "(5, 6, 10)\n",
      "(5, 6, 11)\n",
      "(5, 6, 12)\n",
      "(5, 6, 13)\n",
      "(5, 6, 14)\n",
      "(5, 6, 15)\n",
      "(5, 7, 8)\n",
      "(5, 7, 9)\n",
      "(5, 7, 10)\n",
      "(5, 7, 11)\n",
      "(5, 7, 12)\n",
      "(5, 7, 13)\n",
      "(5, 7, 14)\n",
      "(5, 7, 15)\n",
      "(5, 8, 9)\n",
      "(5, 8, 10)\n",
      "(5, 8, 11)\n",
      "(5, 8, 12)\n",
      "(5, 8, 13)\n",
      "(5, 8, 14)\n",
      "(5, 8, 15)\n",
      "(5, 9, 10)\n",
      "(5, 9, 11)\n",
      "(5, 9, 12)\n",
      "(5, 9, 13)\n",
      "(5, 9, 14)\n",
      "(5, 9, 15)\n",
      "(5, 10, 11)\n",
      "(5, 10, 12)\n",
      "(5, 10, 13)\n",
      "(5, 10, 14)\n",
      "(5, 10, 15)\n",
      "(5, 11, 12)\n",
      "(5, 11, 13)\n",
      "(5, 11, 14)\n",
      "(5, 11, 15)\n",
      "(5, 12, 13)\n",
      "(5, 12, 14)\n",
      "(5, 12, 15)\n",
      "(5, 13, 14)\n",
      "(5, 13, 15)\n",
      "(5, 14, 15)\n",
      "(6, 7, 8)\n",
      "(6, 7, 9)\n",
      "(6, 7, 10)\n",
      "(6, 7, 11)\n",
      "(6, 7, 12)\n",
      "(6, 7, 13)\n",
      "(6, 7, 14)\n",
      "(6, 7, 15)\n",
      "(6, 8, 9)\n",
      "(6, 8, 10)\n",
      "(6, 8, 11)\n",
      "(6, 8, 12)\n",
      "(6, 8, 13)\n",
      "(6, 8, 14)\n",
      "(6, 8, 15)\n",
      "(6, 9, 10)\n",
      "(6, 9, 11)\n",
      "(6, 9, 12)\n",
      "(6, 9, 13)\n",
      "(6, 9, 14)\n",
      "(6, 9, 15)\n",
      "(6, 10, 11)\n",
      "(6, 10, 12)\n",
      "(6, 10, 13)\n",
      "(6, 10, 14)\n",
      "(6, 10, 15)\n",
      "(6, 11, 12)\n",
      "(6, 11, 13)\n",
      "(6, 11, 14)\n",
      "(6, 11, 15)\n",
      "(6, 12, 13)\n",
      "(6, 12, 14)\n",
      "(6, 12, 15)\n",
      "(6, 13, 14)\n",
      "(6, 13, 15)\n",
      "(6, 14, 15)\n",
      "(7, 8, 9)\n",
      "(7, 8, 10)\n",
      "(7, 8, 11)\n",
      "(7, 8, 12)\n",
      "(7, 8, 13)\n",
      "(7, 8, 14)\n",
      "(7, 8, 15)\n",
      "(7, 9, 10)\n",
      "(7, 9, 11)\n",
      "(7, 9, 12)\n",
      "(7, 9, 13)\n",
      "(7, 9, 14)\n",
      "(7, 9, 15)\n",
      "(7, 10, 11)\n",
      "(7, 10, 12)\n",
      "(7, 10, 13)\n",
      "(7, 10, 14)\n",
      "(7, 10, 15)\n",
      "(7, 11, 12)\n",
      "(7, 11, 13)\n",
      "(7, 11, 14)\n",
      "(7, 11, 15)\n",
      "(7, 12, 13)\n",
      "(7, 12, 14)\n",
      "(7, 12, 15)\n",
      "(7, 13, 14)\n",
      "(7, 13, 15)\n",
      "(7, 14, 15)\n",
      "(8, 9, 10)\n",
      "(8, 9, 11)\n",
      "(8, 9, 12)\n",
      "(8, 9, 13)\n",
      "(8, 9, 14)\n",
      "(8, 9, 15)\n",
      "(8, 10, 11)\n",
      "(8, 10, 12)\n",
      "(8, 10, 13)\n",
      "(8, 10, 14)\n",
      "(8, 10, 15)\n",
      "(8, 11, 12)\n",
      "(8, 11, 13)\n",
      "(8, 11, 14)\n",
      "(8, 11, 15)\n",
      "(8, 12, 13)\n",
      "(8, 12, 14)\n",
      "(8, 12, 15)\n",
      "(8, 13, 14)\n",
      "(8, 13, 15)\n",
      "(8, 14, 15)\n",
      "(9, 10, 11)\n",
      "(9, 10, 12)\n",
      "(9, 10, 13)\n",
      "(9, 10, 14)\n",
      "(9, 10, 15)\n",
      "(9, 11, 12)\n",
      "(9, 11, 13)\n",
      "(9, 11, 14)\n",
      "(9, 11, 15)\n",
      "(9, 12, 13)\n",
      "(9, 12, 14)\n",
      "(9, 12, 15)\n",
      "(9, 13, 14)\n",
      "(9, 13, 15)\n",
      "(9, 14, 15)\n",
      "(10, 11, 12)\n",
      "(10, 11, 13)\n",
      "(10, 11, 14)\n",
      "(10, 11, 15)\n",
      "(10, 12, 13)\n",
      "(10, 12, 14)\n",
      "(10, 12, 15)\n",
      "(10, 13, 14)\n",
      "(10, 13, 15)\n",
      "(10, 14, 15)\n",
      "(11, 12, 13)\n",
      "(11, 12, 14)\n",
      "(11, 12, 15)\n",
      "(11, 13, 14)\n",
      "(11, 13, 15)\n",
      "(11, 14, 15)\n",
      "(12, 13, 14)\n",
      "(12, 13, 15)\n",
      "(12, 14, 15)\n",
      "(13, 14, 15)\n"
     ]
    }
   ],
   "source": [
    "from itertools import combinations\n",
    "\n",
    "num_vector = 16\n",
    "search_radius = 3\n",
    "\n",
    "for diff in combinations(range(num_vector), search_radius):\n",
    "    print (diff)"
   ]
  },
  {
   "cell_type": "code",
   "execution_count": 117,
   "metadata": {
    "collapsed": true
   },
   "outputs": [],
   "source": [
    "def search_nearby_bins(query_bin_bits, table, search_radius=2, initial_candidates=set()):\n",
    "    \"\"\"\n",
    "    For a given query vector and trained LSH model, return all candidate neighbors for\n",
    "    the query among all bins within the given search radius.\n",
    "    \n",
    "    Example usage\n",
    "    -------------\n",
    "    >>> model = train_lsh(corpus, num_vector=16, seed=143)\n",
    "    >>> q = model['bin_index_bits'][0]  # vector for the first document\n",
    "  \n",
    "    >>> candidates = search_nearby_bins(q, model['table'])\n",
    "    \"\"\"\n",
    "    num_vector = len(query_bin_bits)\n",
    "    powers_of_two = 1 << np.arange(num_vector-1, -1, -1)\n",
    "    \n",
    "    # Allow the user to provide an initial set of candidates.\n",
    "    candidate_set = initial_candidates.copy()\n",
    "    \n",
    "    for different_bits in combinations(range(num_vector), search_radius):       \n",
    "        # Flip the bits (n_1,n_2,...,n_r) of the query bin to produce a new bit vector.\n",
    "        ## Hint: you can iterate over a tuple like a list\n",
    "        alternate_bits = query_bin_bits.copy()\n",
    "        for i in different_bits:\n",
    "            alternate_bits[i] = not(alternate_bits[i]) # YOUR CODE HERE \n",
    "        \n",
    "        # Convert the new bit vector to an integer index\n",
    "        nearby_bin = alternate_bits.dot(powers_of_two)\n",
    "        \n",
    "        # Fetch the list of documents belonging to the bin indexed by the new bit vector.\n",
    "        # Then add those documents to candidate_set\n",
    "        # Make sure that the bin exists in the table!\n",
    "        # Hint: update() method for sets lets you add an entire list to the set\n",
    "        if nearby_bin in table:\n",
    "            candidate_set.update(model['table'][nearby_bin]) # YOUR CODE HERE: Update candidate_set with the documents in this bin.\n",
    "            \n",
    "    return candidate_set"
   ]
  },
  {
   "cell_type": "code",
   "execution_count": 118,
   "metadata": {},
   "outputs": [
    {
     "name": "stdout",
     "output_type": "stream",
     "text": [
      "Passed test\n",
      "List of documents in the same bin as Obama: 35817, 21426, 53937, 39426, 50261\n"
     ]
    }
   ],
   "source": [
    "obama_bin_index = model['bin_index_bits'][35817] # bin index of Barack Obama\n",
    "candidate_set = search_nearby_bins(obama_bin_index, model['table'], search_radius=0)\n",
    "if candidate_set == set([35817, 21426, 53937, 39426, 50261]):\n",
    "    print ('Passed test')\n",
    "else:\n",
    "    print ('Check your code')\n",
    "print ('List of documents in the same bin as Obama: 35817, 21426, 53937, 39426, 50261')"
   ]
  },
  {
   "cell_type": "code",
   "execution_count": 119,
   "metadata": {},
   "outputs": [
    {
     "name": "stdout",
     "output_type": "stream",
     "text": [
      "Passed test\n"
     ]
    }
   ],
   "source": [
    "candidate_set = search_nearby_bins(obama_bin_index, model['table'], search_radius=1, initial_candidates=candidate_set)\n",
    "if candidate_set == set([39426, 38155, 38412, 28444, 9757, 41631, 39207, 59050, 47773, 53937, 21426, 34547,\n",
    "                         23229, 55615, 39877, 27404, 33996, 21715, 50261, 21975, 33243, 58723, 35817, 45676,\n",
    "                         19699, 2804, 20347]):\n",
    "    print ('Passed test')\n",
    "else:\n",
    "    print ('Check your code')"
   ]
  },
  {
   "cell_type": "code",
   "execution_count": 126,
   "metadata": {
    "collapsed": true
   },
   "outputs": [],
   "source": [
    "from sklearn.metrics import pairwise_distances"
   ]
  },
  {
   "cell_type": "code",
   "execution_count": 155,
   "metadata": {
    "collapsed": true
   },
   "outputs": [],
   "source": [
    "def query(vec, model, k, max_search_radius):\n",
    "  \n",
    "    data = model['data']\n",
    "    table = model['table']\n",
    "    random_vectors = model['random_vectors']\n",
    "    num_vector = random_vectors.shape[1]\n",
    "    \n",
    "    \n",
    "    # Compute bin index for the query vector, in bit representation.\n",
    "    bin_index_bits = (vec.dot(random_vectors) >= 0).flatten()\n",
    "    \n",
    "    # Search nearby bins and collect candidates\n",
    "    candidate_set = set()\n",
    "    for search_radius in range(max_search_radius+1):\n",
    "        candidate_set = search_nearby_bins(bin_index_bits, table, search_radius, initial_candidates=candidate_set)\n",
    "    \n",
    "    # Sort candidates by their true distances from the query\n",
    "    nearest_neighbors = pd.DataFrame(list(candidate_set), columns=['id']).set_index('id')\n",
    "    candidates = data[np.array(list(candidate_set)),:]\n",
    "    nearest_neighbors['distance'] = pairwise_distances(candidates, vec, metric='cosine').flatten()\n",
    "    \n",
    "    return nearest_neighbors.sort_values('distance').head(k), len(candidate_set)"
   ]
  },
  {
   "cell_type": "code",
   "execution_count": 156,
   "metadata": {},
   "outputs": [
    {
     "data": {
      "text/plain": [
       "(       distance\n",
       " id             \n",
       " 35817  0.000000\n",
       " 24478  0.703139\n",
       " 56008  0.856848\n",
       " 37199  0.874669\n",
       " 40353  0.890034\n",
       " 9267   0.898377\n",
       " 55909  0.899340\n",
       " 9165   0.900921\n",
       " 57958  0.903003\n",
       " 49872  0.909533, 727)"
      ]
     },
     "execution_count": 156,
     "metadata": {},
     "output_type": "execute_result"
    }
   ],
   "source": [
    "query(corpus[35817,:], model, k=10, max_search_radius=3)"
   ]
  },
  {
   "cell_type": "code",
   "execution_count": 158,
   "metadata": {},
   "outputs": [
    {
     "data": {
      "text/html": [
       "<div>\n",
       "<style>\n",
       "    .dataframe thead tr:only-child th {\n",
       "        text-align: right;\n",
       "    }\n",
       "\n",
       "    .dataframe thead th {\n",
       "        text-align: left;\n",
       "    }\n",
       "\n",
       "    .dataframe tbody tr th {\n",
       "        vertical-align: top;\n",
       "    }\n",
       "</style>\n",
       "<table border=\"1\" class=\"dataframe\">\n",
       "  <thead>\n",
       "    <tr style=\"text-align: right;\">\n",
       "      <th></th>\n",
       "      <th>distance</th>\n",
       "      <th>name</th>\n",
       "    </tr>\n",
       "    <tr>\n",
       "      <th>id</th>\n",
       "      <th></th>\n",
       "      <th></th>\n",
       "    </tr>\n",
       "  </thead>\n",
       "  <tbody>\n",
       "    <tr>\n",
       "      <th>35817</th>\n",
       "      <td>0.000000</td>\n",
       "      <td>Barack Obama</td>\n",
       "    </tr>\n",
       "    <tr>\n",
       "      <th>24478</th>\n",
       "      <td>0.703139</td>\n",
       "      <td>Joe Biden</td>\n",
       "    </tr>\n",
       "    <tr>\n",
       "      <th>56008</th>\n",
       "      <td>0.856848</td>\n",
       "      <td>Nathan Cullen</td>\n",
       "    </tr>\n",
       "    <tr>\n",
       "      <th>37199</th>\n",
       "      <td>0.874669</td>\n",
       "      <td>Barry Sullivan (lawyer)</td>\n",
       "    </tr>\n",
       "    <tr>\n",
       "      <th>40353</th>\n",
       "      <td>0.890034</td>\n",
       "      <td>Neil MacBride</td>\n",
       "    </tr>\n",
       "    <tr>\n",
       "      <th>9267</th>\n",
       "      <td>0.898377</td>\n",
       "      <td>Vikramaditya Khanna</td>\n",
       "    </tr>\n",
       "    <tr>\n",
       "      <th>55909</th>\n",
       "      <td>0.899340</td>\n",
       "      <td>Herman Cain</td>\n",
       "    </tr>\n",
       "    <tr>\n",
       "      <th>9165</th>\n",
       "      <td>0.900921</td>\n",
       "      <td>Raymond F. Clevenger</td>\n",
       "    </tr>\n",
       "    <tr>\n",
       "      <th>57958</th>\n",
       "      <td>0.903003</td>\n",
       "      <td>Michael J. Malbin</td>\n",
       "    </tr>\n",
       "    <tr>\n",
       "      <th>49872</th>\n",
       "      <td>0.909533</td>\n",
       "      <td>Lowell Barron</td>\n",
       "    </tr>\n",
       "  </tbody>\n",
       "</table>\n",
       "</div>"
      ],
      "text/plain": [
       "       distance                     name\n",
       "id                                      \n",
       "35817  0.000000             Barack Obama\n",
       "24478  0.703139                Joe Biden\n",
       "56008  0.856848            Nathan Cullen\n",
       "37199  0.874669  Barry Sullivan (lawyer)\n",
       "40353  0.890034            Neil MacBride\n",
       "9267   0.898377      Vikramaditya Khanna\n",
       "55909  0.899340              Herman Cain\n",
       "9165   0.900921     Raymond F. Clevenger\n",
       "57958  0.903003        Michael J. Malbin\n",
       "49872  0.909533            Lowell Barron"
      ]
     },
     "execution_count": 158,
     "metadata": {},
     "output_type": "execute_result"
    }
   ],
   "source": [
    "result, num_candidates_considered = query(corpus[35817,:], model, k=10, max_search_radius=3)\n",
    "result.join(wiki[['name']]).sort_values('distance')"
   ]
  },
  {
   "cell_type": "code",
   "execution_count": 163,
   "metadata": {
    "collapsed": true
   },
   "outputs": [],
   "source": [
    "import time"
   ]
  },
  {
   "cell_type": "code",
   "execution_count": 167,
   "metadata": {
    "scrolled": false
   },
   "outputs": [
    {
     "name": "stdout",
     "output_type": "stream",
     "text": [
      "Radius: 0\n",
      "\n",
      "\n",
      "average_distance_from_query: 0.9745452682750878\n",
      "\n",
      "\n",
      "       distance                     name\n",
      "id                                      \n",
      "35817  0.000000             Barack Obama\n",
      "21426  0.950867            Mark Boulware\n",
      "39426  0.975966  John Wells (politician)\n",
      "50261  0.978256        Francis Longstaff\n",
      "53937  0.993092    Madurai T. Srinivasan\n",
      "\n",
      "\n",
      "Radius: 1\n",
      "\n",
      "\n",
      "average_distance_from_query: 0.9642887060258674\n",
      "\n",
      "\n",
      "       distance                                   name\n",
      "id                                                    \n",
      "35817  0.000000                           Barack Obama\n",
      "41631  0.947459                            Binayak Sen\n",
      "21426  0.950867                          Mark Boulware\n",
      "33243  0.951766                        Janice Lachance\n",
      "33996  0.960859                            Rufus Black\n",
      "28444  0.961081                       John Paul Phelan\n",
      "20347  0.974130                        Gianni De Fraja\n",
      "39426  0.975966                John Wells (politician)\n",
      "34547  0.978215  Nathan Murphy (Australian politician)\n",
      "50261  0.978256                      Francis Longstaff\n",
      "\n",
      "\n",
      "Radius: 2\n",
      "\n",
      "\n",
      "average_distance_from_query: 0.898958384583039\n",
      "\n",
      "\n",
      "       distance                 name\n",
      "id                                  \n",
      "35817  0.000000         Barack Obama\n",
      "24478  0.703139            Joe Biden\n",
      "9267   0.898377  Vikramaditya Khanna\n",
      "55909  0.899340          Herman Cain\n",
      "6949   0.925713   Harrison J. Goldin\n",
      "23524  0.926398        Paul Bennecke\n",
      "5823   0.928498       Adeleke Mamora\n",
      "37262  0.934454           Becky Cain\n",
      "10121  0.936896         Bill Bradley\n",
      "54782  0.937809   Thomas F. Hartnett\n",
      "\n",
      "\n",
      "Radius: 3\n",
      "\n",
      "\n",
      "average_distance_from_query: 0.8706516030485053\n",
      "\n",
      "\n",
      "       distance                     name\n",
      "id                                      \n",
      "35817  0.000000             Barack Obama\n",
      "24478  0.703139                Joe Biden\n",
      "56008  0.856848            Nathan Cullen\n",
      "37199  0.874669  Barry Sullivan (lawyer)\n",
      "40353  0.890034            Neil MacBride\n",
      "9267   0.898377      Vikramaditya Khanna\n",
      "55909  0.899340              Herman Cain\n",
      "9165   0.900921     Raymond F. Clevenger\n",
      "57958  0.903003        Michael J. Malbin\n",
      "49872  0.909533            Lowell Barron\n",
      "\n",
      "\n",
      "Radius: 4\n",
      "\n",
      "\n",
      "average_distance_from_query: 0.8349346493308571\n",
      "\n",
      "\n",
      "       distance                name\n",
      "id                                 \n",
      "35817  0.000000        Barack Obama\n",
      "24478  0.703139           Joe Biden\n",
      "36452  0.833985        Bill Clinton\n",
      "24848  0.839407     John C. Eastman\n",
      "43155  0.840839         Goodwin Liu\n",
      "42965  0.849078     John O. Brennan\n",
      "56008  0.856848       Nathan Cullen\n",
      "38495  0.857574        Barney Frank\n",
      "18752  0.858899      Dan W. Reicher\n",
      "2092   0.874643  Richard Blumenthal\n",
      "\n",
      "\n",
      "Radius: 5\n",
      "\n",
      "\n",
      "average_distance_from_query: 0.8096145239653254\n",
      "\n",
      "\n",
      "       distance                     name\n",
      "id                                      \n",
      "35817  0.000000             Barack Obama\n",
      "24478  0.703139                Joe Biden\n",
      "38714  0.770561  Eric Stern (politician)\n",
      "46811  0.800197            Jeff Sessions\n",
      "14754  0.826854              Mitt Romney\n",
      "36452  0.833985             Bill Clinton\n",
      "40943  0.834535           Jonathan Alter\n",
      "55044  0.837013             Wesley Clark\n",
      "24848  0.839407          John C. Eastman\n",
      "43155  0.840839              Goodwin Liu\n",
      "\n",
      "\n",
      "Radius: 6\n",
      "\n",
      "\n",
      "average_distance_from_query: 0.7943131453905069\n",
      "\n",
      "\n",
      "       distance                     name\n",
      "id                                      \n",
      "35817  0.000000             Barack Obama\n",
      "24478  0.703139                Joe Biden\n",
      "38714  0.770561  Eric Stern (politician)\n",
      "44681  0.790926   Jesse Lee (politician)\n",
      "46811  0.800197            Jeff Sessions\n",
      "48693  0.809192              Artur Davis\n",
      "23737  0.810165        John D. McCormick\n",
      "4032   0.814555      Kenneth D. Thompson\n",
      "28447  0.823229           George W. Bush\n",
      "14754  0.826854              Mitt Romney\n",
      "\n",
      "\n",
      "Radius: 7\n",
      "\n",
      "\n",
      "average_distance_from_query: 0.7759826058523336\n",
      "\n",
      "\n",
      "       distance                     name\n",
      "id                                      \n",
      "35817  0.000000             Barack Obama\n",
      "24478  0.703139                Joe Biden\n",
      "38376  0.742982           Samantha Power\n",
      "57108  0.758358   Hillary Rodham Clinton\n",
      "38714  0.770561  Eric Stern (politician)\n",
      "44681  0.790926   Jesse Lee (politician)\n",
      "18827  0.798323             Henry Waxman\n",
      "46811  0.800197            Jeff Sessions\n",
      "48693  0.809192              Artur Davis\n",
      "23737  0.810165        John D. McCormick\n",
      "\n",
      "\n",
      "Radius: 8\n",
      "\n",
      "\n",
      "average_distance_from_query: 0.7759826058523336\n",
      "\n",
      "\n",
      "       distance                     name\n",
      "id                                      \n",
      "35817  0.000000             Barack Obama\n",
      "24478  0.703139                Joe Biden\n",
      "38376  0.742982           Samantha Power\n",
      "57108  0.758358   Hillary Rodham Clinton\n",
      "38714  0.770561  Eric Stern (politician)\n",
      "44681  0.790926   Jesse Lee (politician)\n",
      "18827  0.798323             Henry Waxman\n",
      "46811  0.800197            Jeff Sessions\n",
      "48693  0.809192              Artur Davis\n",
      "23737  0.810165        John D. McCormick\n",
      "\n",
      "\n",
      "Radius: 9\n",
      "\n",
      "\n",
      "average_distance_from_query: 0.7731349875446499\n",
      "\n",
      "\n",
      "       distance                     name\n",
      "id                                      \n",
      "35817  0.000000             Barack Obama\n",
      "24478  0.703139                Joe Biden\n",
      "38376  0.742982           Samantha Power\n",
      "57108  0.758358   Hillary Rodham Clinton\n",
      "38714  0.770561  Eric Stern (politician)\n",
      "46140  0.784678             Robert Gibbs\n",
      "44681  0.790926   Jesse Lee (politician)\n",
      "18827  0.798323             Henry Waxman\n",
      "46811  0.800197            Jeff Sessions\n",
      "39357  0.809051              John McCain\n",
      "\n",
      "\n",
      "Radius: 10\n",
      "\n",
      "\n",
      "average_distance_from_query: 0.772070052411731\n",
      "\n",
      "\n",
      "       distance                     name\n",
      "id                                      \n",
      "35817  0.000000             Barack Obama\n",
      "24478  0.703139                Joe Biden\n",
      "38376  0.742982           Samantha Power\n",
      "57108  0.758358   Hillary Rodham Clinton\n",
      "38714  0.770561  Eric Stern (politician)\n",
      "46140  0.784678             Robert Gibbs\n",
      "44681  0.790926   Jesse Lee (politician)\n",
      "18827  0.798323             Henry Waxman\n",
      "2412   0.799466          Joe the Plumber\n",
      "46811  0.800197            Jeff Sessions\n",
      "\n",
      "\n",
      "Radius: 11\n",
      "\n",
      "\n",
      "average_distance_from_query: 0.772070052411731\n",
      "\n",
      "\n",
      "       distance                     name\n",
      "id                                      \n",
      "35817  0.000000             Barack Obama\n",
      "24478  0.703139                Joe Biden\n",
      "38376  0.742982           Samantha Power\n",
      "57108  0.758358   Hillary Rodham Clinton\n",
      "38714  0.770561  Eric Stern (politician)\n",
      "46140  0.784678             Robert Gibbs\n",
      "44681  0.790926   Jesse Lee (politician)\n",
      "18827  0.798323             Henry Waxman\n",
      "2412   0.799466          Joe the Plumber\n",
      "46811  0.800197            Jeff Sessions\n",
      "\n",
      "\n",
      "Radius: 12\n",
      "\n",
      "\n",
      "average_distance_from_query: 0.7707191289494767\n",
      "\n",
      "\n",
      "       distance                     name\n",
      "id                                      \n",
      "35817  0.000000             Barack Obama\n",
      "24478  0.703139                Joe Biden\n",
      "38376  0.742982           Samantha Power\n",
      "57108  0.758358   Hillary Rodham Clinton\n",
      "38714  0.770561  Eric Stern (politician)\n",
      "46140  0.784678             Robert Gibbs\n",
      "6796   0.788039              Eric Holder\n",
      "44681  0.790926   Jesse Lee (politician)\n",
      "18827  0.798323             Henry Waxman\n",
      "2412   0.799466          Joe the Plumber\n",
      "\n",
      "\n",
      "Radius: 13\n",
      "\n",
      "\n",
      "average_distance_from_query: 0.7707191289494767\n",
      "\n",
      "\n",
      "       distance                     name\n",
      "id                                      \n",
      "35817  0.000000             Barack Obama\n",
      "24478  0.703139                Joe Biden\n",
      "38376  0.742982           Samantha Power\n",
      "57108  0.758358   Hillary Rodham Clinton\n",
      "38714  0.770561  Eric Stern (politician)\n",
      "46140  0.784678             Robert Gibbs\n",
      "6796   0.788039              Eric Holder\n",
      "44681  0.790926   Jesse Lee (politician)\n",
      "18827  0.798323             Henry Waxman\n",
      "2412   0.799466          Joe the Plumber\n",
      "\n",
      "\n",
      "Radius: 14\n",
      "\n",
      "\n",
      "average_distance_from_query: 0.7707191289494767\n",
      "\n",
      "\n",
      "       distance                     name\n",
      "id                                      \n",
      "35817  0.000000             Barack Obama\n",
      "24478  0.703139                Joe Biden\n",
      "38376  0.742982           Samantha Power\n",
      "57108  0.758358   Hillary Rodham Clinton\n",
      "38714  0.770561  Eric Stern (politician)\n",
      "46140  0.784678             Robert Gibbs\n",
      "6796   0.788039              Eric Holder\n",
      "44681  0.790926   Jesse Lee (politician)\n",
      "18827  0.798323             Henry Waxman\n",
      "2412   0.799466          Joe the Plumber\n",
      "\n",
      "\n"
     ]
    },
    {
     "name": "stdout",
     "output_type": "stream",
     "text": [
      "Radius: 15\n",
      "\n",
      "\n",
      "average_distance_from_query: 0.7707191289494767\n",
      "\n",
      "\n",
      "       distance                     name\n",
      "id                                      \n",
      "35817  0.000000             Barack Obama\n",
      "24478  0.703139                Joe Biden\n",
      "38376  0.742982           Samantha Power\n",
      "57108  0.758358   Hillary Rodham Clinton\n",
      "38714  0.770561  Eric Stern (politician)\n",
      "46140  0.784678             Robert Gibbs\n",
      "6796   0.788039              Eric Holder\n",
      "44681  0.790926   Jesse Lee (politician)\n",
      "18827  0.798323             Henry Waxman\n",
      "2412   0.799466          Joe the Plumber\n",
      "\n",
      "\n",
      "Radius: 16\n",
      "\n",
      "\n",
      "average_distance_from_query: 0.7707191289494767\n",
      "\n",
      "\n",
      "       distance                     name\n",
      "id                                      \n",
      "35817  0.000000             Barack Obama\n",
      "24478  0.703139                Joe Biden\n",
      "38376  0.742982           Samantha Power\n",
      "57108  0.758358   Hillary Rodham Clinton\n",
      "38714  0.770561  Eric Stern (politician)\n",
      "46140  0.784678             Robert Gibbs\n",
      "6796   0.788039              Eric Holder\n",
      "44681  0.790926   Jesse Lee (politician)\n",
      "18827  0.798323             Henry Waxman\n",
      "2412   0.799466          Joe the Plumber\n",
      "\n",
      "\n"
     ]
    }
   ],
   "source": [
    "num_candidates_history = []\n",
    "query_time_history = []\n",
    "max_distance_from_query_history = []\n",
    "min_distance_from_query_history = []\n",
    "average_distance_from_query_history = []\n",
    "\n",
    "for max_search_radius in range(17):\n",
    "    start=time.time()\n",
    "    # Perform LSH query using Barack Obama, with max_search_radius\n",
    "    result, num_candidates = query(corpus[35817,:], model, k=10,\n",
    "                                   max_search_radius=max_search_radius)\n",
    "    end=time.time()\n",
    "    query_time = end-start  # Measure time\n",
    "       \n",
    "    # Collect statistics on 10 nearest neighbors\n",
    "    average_distance_from_query = result['distance'][1:].mean()\n",
    "    max_distance_from_query = result['distance'][1:].max()\n",
    "    min_distance_from_query = result['distance'][1:].min()\n",
    "\n",
    "    print ('Radius:', max_search_radius)\n",
    "    print('\\n')\n",
    "    print ('average_distance_from_query:', average_distance_from_query)\n",
    "    print('\\n')\n",
    "    # Display 10 nearest neighbors, along with document ID and name\n",
    "    print (result.join(wiki[['name']]).sort_values('distance'))\n",
    "    print('\\n')\n",
    "    \n",
    "    num_candidates_history.append(num_candidates)\n",
    "    query_time_history.append(query_time)\n",
    "    average_distance_from_query_history.append(average_distance_from_query)\n",
    "    max_distance_from_query_history.append(max_distance_from_query)\n",
    "    min_distance_from_query_history.append(min_distance_from_query)"
   ]
  },
  {
   "cell_type": "code",
   "execution_count": 166,
   "metadata": {},
   "outputs": [
    {
     "data": {
      "image/png": "[encoded data removed]",
      "text/plain": [
       "<matplotlib.figure.Figure at 0x22040d839e8>"
      ]
     },
     "metadata": {},
     "output_type": "display_data"
    },
    {
     "data": {
      "image/png": "[encoded data removed]",
      "text/plain": [
       "<matplotlib.figure.Figure at 0x22040df5dd8>"
      ]
     },
     "metadata": {},
     "output_type": "display_data"
    },
    {
     "data": {
      "image/png": "[encoded data removed]",
      "text/plain": [
       "<matplotlib.figure.Figure at 0x2201e9e2358>"
      ]
     },
     "metadata": {},
     "output_type": "display_data"
    }
   ],
   "source": [
    "plt.figure(figsize=(7,4.5))\n",
    "plt.plot(num_candidates_history, linewidth=4)\n",
    "plt.xlabel('Search radius')\n",
    "plt.ylabel('# of documents searched')\n",
    "plt.rcParams.update({'font.size':16})\n",
    "plt.tight_layout()\n",
    "\n",
    "plt.figure(figsize=(7,4.5))\n",
    "plt.plot(query_time_history, linewidth=4)\n",
    "plt.xlabel('Search radius')\n",
    "plt.ylabel('Query time (seconds)')\n",
    "plt.rcParams.update({'font.size':16})\n",
    "plt.tight_layout()\n",
    "\n",
    "plt.figure(figsize=(7,4.5))\n",
    "plt.plot(average_distance_from_query_history, linewidth=4, label='Average of 10 neighbors')\n",
    "plt.plot(max_distance_from_query_history, linewidth=4, label='Farthest of 10 neighbors')\n",
    "plt.plot(min_distance_from_query_history, linewidth=4, label='Closest of 10 neighbors')\n",
    "plt.xlabel('Search radius')\n",
    "plt.ylabel('Cosine distance of neighbors')\n",
    "plt.legend(loc='best', prop={'size':15})\n",
    "plt.rcParams.update({'font.size':16})\n",
    "plt.tight_layout()"
   ]
  },
  {
   "cell_type": "markdown",
   "metadata": {},
   "source": [
    "## Question 4\n",
    "What was the smallest search radius that yielded the correct nearest neighbor, namely Joe Biden?\n",
    "\n",
    "## Answer 4\n",
    "2 as evident from the graph and the table outputs above!"
   ]
  },
  {
   "cell_type": "markdown",
   "metadata": {},
   "source": [
    "## Question 5\n",
    "Suppose our goal was to produce 10 approximate nearest neighbors whose average distance from the query document is within 0.01 of the average for the true 10 nearest neighbors. For Barack Obama, the true 10 nearest neighbors are on average about 0.77. What was the smallest search radius for Barack Obama that produced an average distance of 0.78 or better?\n",
    "\n",
    "## Answer 5\n",
    "7, Again as evident from the above table output"
   ]
  },
  {
   "cell_type": "markdown",
   "metadata": {},
   "source": [
    "Further we explore the effect of number of random vectors. "
   ]
  },
  {
   "cell_type": "code",
   "execution_count": null,
   "metadata": {
    "collapsed": true
   },
   "outputs": [],
   "source": []
  }
 ],
 "metadata": {
  "kernelspec": {
   "display_name": "Python [conda root]",
   "language": "python",
   "name": "conda-root-py"
  },
  "language_info": {
   "codemirror_mode": {
    "name": "ipython",
    "version": 3
   },
   "file_extension": ".py",
   "mimetype": "text/x-python",
   "name": "python",
   "nbconvert_exporter": "python",
   "pygments_lexer": "ipython3",
   "version": "3.6.2"
  }
 },
 "nbformat": 4,
 "nbformat_minor": 2
}
