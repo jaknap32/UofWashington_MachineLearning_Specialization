{
  "nbformat": 4,
  "nbformat_minor": 0,
  "metadata": {
    "colab": {
      "name": "algods-coding-trees.ipynb",
      "provenance": [],
      "collapsed_sections": [],
      "include_colab_link": true
    },
    "kernelspec": {
      "name": "python3",
      "display_name": "Python 3"
    }
  },
  "cells": [
    {
      "cell_type": "markdown",
      "metadata": {
        "id": "view-in-github",
        "colab_type": "text"
      },
      "source": [
        "<a href=\"https://colab.research.google.com/github/rollthedice32/UWashington-MachineLearning-Specialization/blob/master/algods_coding_trees.ipynb\" target=\"_parent\"><img src=\"https://colab.research.google.com/assets/colab-badge.svg\" alt=\"Open In Colab\"/></a>"
      ]
    },
    {
      "cell_type": "markdown",
      "metadata": {
        "id": "UjgwYGX_B38r",
        "colab_type": "text"
      },
      "source": [
        "\n",
        "## in-order traversal - iterative"
      ]
    },
    {
      "cell_type": "code",
      "metadata": {
        "id": "1gWGL2_fH0R9",
        "colab_type": "code",
        "colab": {}
      },
      "source": [
        "## OT(nodes), OS(depth)\n",
        "def inorderTraversal(self, root):\n",
        "    res, stack = [], []\n",
        "    while True:\n",
        "        while root: #current node\n",
        "            stack.append(root)\n",
        "            root = root.left\n",
        "        if not stack: #stack empty\n",
        "            return res\n",
        "        node = stack.pop()\n",
        "        res.append(node.val)\n",
        "        root = node.right\n",
        "    return root"
      ],
      "execution_count": 0,
      "outputs": []
    },
    {
      "cell_type": "markdown",
      "metadata": {
        "id": "1oZ_KiN6CjC7",
        "colab_type": "text"
      },
      "source": [
        "## in-order traversal - recursive\n"
      ]
    },
    {
      "cell_type": "code",
      "metadata": {
        "id": "hXljYrfQCvOo",
        "colab_type": "code",
        "colab": {}
      },
      "source": [
        ""
      ],
      "execution_count": 0,
      "outputs": []
    },
    {
      "cell_type": "markdown",
      "metadata": {
        "id": "k1lRZKbfEgfJ",
        "colab_type": "text"
      },
      "source": [
        "## pre-order traversal - iterative"
      ]
    },
    {
      "cell_type": "code",
      "metadata": {
        "id": "7Z0a_PTLEk3I",
        "colab_type": "code",
        "colab": {}
      },
      "source": [
        ""
      ],
      "execution_count": 0,
      "outputs": []
    },
    {
      "cell_type": "markdown",
      "metadata": {
        "id": "4z_g3bakEgVT",
        "colab_type": "text"
      },
      "source": [
        "## pre-order traversal - recursive"
      ]
    },
    {
      "cell_type": "code",
      "metadata": {
        "id": "KkKTpxNYEo9S",
        "colab_type": "code",
        "colab": {}
      },
      "source": [
        ""
      ],
      "execution_count": 0,
      "outputs": []
    },
    {
      "cell_type": "markdown",
      "metadata": {
        "id": "dtpQW0fNEgLO",
        "colab_type": "text"
      },
      "source": [
        "## post-order traversal - iterative"
      ]
    },
    {
      "cell_type": "code",
      "metadata": {
        "id": "coW-M0B1EpY9",
        "colab_type": "code",
        "colab": {}
      },
      "source": [
        ""
      ],
      "execution_count": 0,
      "outputs": []
    },
    {
      "cell_type": "markdown",
      "metadata": {
        "id": "NDvv-Qf2EgAO",
        "colab_type": "text"
      },
      "source": [
        "## post-order traversal - recursive"
      ]
    },
    {
      "cell_type": "code",
      "metadata": {
        "id": "TROoVvCNEyvD",
        "colab_type": "code",
        "colab": {}
      },
      "source": [
        ""
      ],
      "execution_count": 0,
      "outputs": []
    },
    {
      "cell_type": "markdown",
      "metadata": {
        "id": "pl1gIKcTfHpD",
        "colab_type": "text"
      },
      "source": [
        "## Validate a BST - Recursive\n"
      ]
    },
    {
      "cell_type": "code",
      "metadata": {
        "id": "7Su7IHpuaOEC",
        "colab_type": "code",
        "colab": {}
      },
      "source": [
        "## OT(n), OS(d)\n",
        "def is_bst(node, lowr, uppr):\n",
        "    if not root:\n",
        "        return True\n",
        "    if (node.val <= min) or (node.val >= max):\n",
        "        return False\n",
        "    left_ok = True\n",
        "    right_ok = True\n",
        "    if node.left:\n",
        "        left_ok = is_bst(node.left, lowr, node.key)\n",
        "    if node.right:\n",
        "        right_ok = is_bst(node.right, node.key, uppr)\n",
        "    return left_ok and right_ok"
      ],
      "execution_count": 0,
      "outputs": []
    },
    {
      "cell_type": "code",
      "metadata": {
        "id": "SAYfGgcYJvfD",
        "colab_type": "code",
        "colab": {}
      },
      "source": [
        "def binary_search(target, nums):\n",
        "    # by -1 below we mean\n",
        "    # to start our wall \"to the left\" of the 0th index\n",
        "    # (we *don't* mean \"the last index\")\n",
        "    floor_index = -1\n",
        "    ceiling_index = len(nums)\n",
        "    # If there isn't at least 1 index between floor and ceiling,\n",
        "    # we've run out of guesses and the number must not be present\n",
        "    while floor_index + 1 < ceiling_index:\n",
        "        distance = ceiling_index - floor_index\n",
        "        half_distance = distance // 2\n",
        "        guess_index = floor_index + half_distance\n",
        "        guess_value = nums[guess_index]\n",
        "        if guess_value == target:\n",
        "            return True\n",
        "        if guess_value > target:\n",
        "            # Target is to the left, so move ceiling to the left\n",
        "            ceiling_index = guess_index\n",
        "        else:\n",
        "            # Target is to the right, so move floor to the right\n",
        "            floor_index = guess_index\n",
        "    return False"
      ],
      "execution_count": 0,
      "outputs": []
    },
    {
      "cell_type": "code",
      "metadata": {
        "id": "uh7Cl2KHwfgO",
        "colab_type": "code",
        "colab": {}
      },
      "source": [
        "def Time_n_Space_n(head):\n",
        "    node = head\n",
        "    nodes = set() #space(n)\n",
        "    while node: #time (n)\n",
        "        #O(1) lookup, like dict\n",
        "        if node in nodes:\n",
        "            return True\n",
        "        else:\n",
        "            nodes.add(node)\n",
        "        node = node.next\n",
        "    return False\n",
        "    \n",
        "def Time_n_space_1(head):\n",
        "    fast = head\n",
        "    slow = head\n",
        "    while (fast) and (fast.next):\n",
        "        fast = fast.next.next\n",
        "        slow = slow.next\n",
        "        if fast==slow:\n",
        "            return True\n",
        "    return False"
      ],
      "execution_count": 0,
      "outputs": []
    }
  ]
}