{
 "cells": [
  {
   "cell_type": "code",
   "execution_count": 6,
   "metadata": {},
   "outputs": [],
   "source": [
    "import sframe                                                  # see below for install instruction\n",
    "import numpy as np                                             # dense matrices\n",
    "import matplotlib.pyplot as plt                                # plotting\n",
    "from scipy.stats import multivariate_normal                    # multivariate Gaussian distribution\n",
    "import copy                                                    # deep copies\n",
    "\n",
    "# image handling library\n",
    "from PIL import Image\n",
    "from io import BytesIO\n",
    "\n",
    "%matplotlib inline"
   ]
  },
  {
   "cell_type": "code",
   "execution_count": 7,
   "metadata": {
    "collapsed": true
   },
   "outputs": [],
   "source": [
    "def log_sum_exp(Z):\n",
    "    \"\"\" Compute log(\\sum_i exp(Z_i)) for some array Z.\"\"\"\n",
    "    return np.max(Z) + np.log(np.sum(np.exp(Z - np.max(Z))))\n",
    "\n",
    "def loglikelihood(data, weights, means, covs):\n",
    "    \"\"\" Compute the loglikelihood of the data for a Gaussian mixture model with the given parameters. \"\"\"\n",
    "    num_clusters = len(means)\n",
    "    num_dim = len(data[0])\n",
    "    \n",
    "    ll = 0\n",
    "    for d in data:\n",
    "        \n",
    "        Z = np.zeros(num_clusters)\n",
    "        for k in range(num_clusters):\n",
    "            \n",
    "            # Compute (x-mu)^T * Sigma^{-1} * (x-mu)\n",
    "            delta = np.array(d) - means[k]\n",
    "            exponent_term = np.dot(delta.T, np.dot(np.linalg.inv(covs[k]), delta))\n",
    "            \n",
    "            # Compute loglikelihood contribution for this data point and this cluster\n",
    "            Z[k] += np.log(weights[k])\n",
    "            Z[k] -= 1/2. * (num_dim * np.log(2*np.pi) + np.log(np.linalg.det(covs[k])) + exponent_term)\n",
    "            \n",
    "        # Increment loglikelihood contribution of this data point across all clusters\n",
    "        ll += log_sum_exp(Z)\n",
    "        \n",
    "    return ll"
   ]
  },
  {
   "cell_type": "code",
   "execution_count": 16,
   "metadata": {},
   "outputs": [],
   "source": [
    "def compute_responsibilities(data, weights, means, covariances):\n",
    "    '''E-step: compute responsibilities, given the current parameters'''\n",
    "    num_data = len(data)\n",
    "    num_clusters = len(means)\n",
    "    resp = np.zeros((num_data, num_clusters))\n",
    "    \n",
    "    # Update resp matrix so that resp[i,k] is the responsibility of cluster k for data point i.\n",
    "    # Hint: To compute likelihood of seeing data point i given cluster k, use multivariate_normal.pdf.\n",
    "    for i in range(num_data):\n",
    "        for k in range(num_clusters):\n",
    "            # YOUR CODE HERE\n",
    "            resp[i, k] =weights[k] *  multivariate_normal.pdf(data[i], mean=means[k], cov=covariances[k])\n",
    "    \n",
    "    # Add up responsibilities over each data point and normalize\n",
    "    row_sums = resp.sum(axis=1)[:, np.newaxis]\n",
    "    resp = resp / row_sums\n",
    "    \n",
    "    return resp"
   ]
  },
  {
   "cell_type": "code",
   "execution_count": 17,
   "metadata": {
    "scrolled": true
   },
   "outputs": [
    {
     "name": "stdout",
     "output_type": "stream",
     "text": [
      "Checkpoint passed!\n"
     ]
    }
   ],
   "source": [
    "resp = compute_responsibilities(data=np.array([[1.,2.],[-1.,-2.]]), weights=np.array([0.3, 0.7]),\n",
    "                                means=[np.array([0.,0.]), np.array([1.,1.])],\n",
    "                                covariances=[np.array([[1.5, 0.],[0.,2.5]]), np.array([[1.,1.],[1.,2.]])])\n",
    "\n",
    "if resp.shape==(2,2) and np.allclose(resp, np.array([[0.10512733, 0.89487267], [0.46468164, 0.53531836]])):\n",
    "    print 'Checkpoint passed!'\n",
    "else:\n",
    "    print 'Check your code again.'"
   ]
  },
  {
   "cell_type": "code",
   "execution_count": null,
   "metadata": {
    "collapsed": true
   },
   "outputs": [],
   "source": []
  }
 ],
 "metadata": {
  "kernelspec": {
   "display_name": "Python [conda env:py2t]",
   "language": "python",
   "name": "conda-env-py2t-py"
  },
  "language_info": {
   "codemirror_mode": {
    "name": "ipython",
    "version": 2
   },
   "file_extension": ".py",
   "mimetype": "text/x-python",
   "name": "python",
   "nbconvert_exporter": "python",
   "pygments_lexer": "ipython2",
   "version": "2.7.13"
  }
 },
 "nbformat": 4,
 "nbformat_minor": 2
}
